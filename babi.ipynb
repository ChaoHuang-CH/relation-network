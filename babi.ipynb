{
 "cells": [
  {
   "cell_type": "code",
   "execution_count": 1,
   "metadata": {
    "collapsed": true
   },
   "outputs": [],
   "source": [
    "import numpy as np\n",
    "import os\n",
    "import pickle\n",
    "import re"
   ]
  },
  {
   "cell_type": "code",
   "execution_count": 2,
   "metadata": {
    "collapsed": false
   },
   "outputs": [],
   "source": [
    "train_paths = []\n",
    "val_paths = []\n",
    "test_paths= []\n",
    "for dirpath, dirnames, filenames in os.walk(\"./tasks_1-20_v1-2/en-valid-10k/\"):\n",
    "    for filename in filenames:\n",
    "        if 'train' in filename:\n",
    "            train_paths.append(os.path.join(dirpath, filename))\n",
    "        elif 'val' in filename:\n",
    "            val_paths.append(os.path.join(dirpath, filename))\n",
    "        else:\n",
    "            test_paths.append(os.path.join(dirpath, filename))"
   ]
  },
  {
   "cell_type": "code",
   "execution_count": 3,
   "metadata": {
    "collapsed": false
   },
   "outputs": [],
   "source": [
    "def split_paragraphs(path_to_file):\n",
    "    \"\"\"\n",
    "    split into paragraphs\n",
    "    \n",
    "    Attributes: \n",
    "        file_path: path of the data\n",
    "    \n",
    "    Returns:\n",
    "        paragraphs: list of paragraph\n",
    "    \"\"\"\n",
    "    with open(path_to_file, 'r') as f:\n",
    "        babi = f.readlines()\n",
    "    \n",
    "    paragraph = []\n",
    "    paragraphs = []\n",
    "    alphabet = re.compile('[a-zA-Z]')\n",
    "    for d in babi:\n",
    "        if d.startswith('1 '):\n",
    "            if paragraph:\n",
    "                paragraphs.append(paragraph)\n",
    "            paragraph = []\n",
    "        mark = re.search(alphabet, d).span()[0]\n",
    "        paragraph.append(d[mark:])\n",
    "        \n",
    "    return paragraphs"
   ]
  },
  {
   "cell_type": "code",
   "execution_count": 4,
   "metadata": {
    "collapsed": false
   },
   "outputs": [],
   "source": [
    "def split_clqa(paragraphs):\n",
    "    \"\"\"\n",
    "    for each paragraph, split into context, label, question and answer\n",
    "\n",
    "    Attributes:\n",
    "        paragraphs: list of paragraphs \n",
    "    \n",
    "    Returns:\n",
    "        context: list of contexts\n",
    "        label: list of labels\n",
    "        question: list of questions\n",
    "        answer: list of answers\n",
    "        answer_hint: list of answer_hints\n",
    "    \"\"\"\n",
    "    context = []\n",
    "    label = []\n",
    "    question = []\n",
    "    answer = []\n",
    "    answer_hint = []\n",
    "    for paragraph in paragraphs:\n",
    "        for i, sent in enumerate(paragraph):\n",
    "            if '?' in sent:\n",
    "                related_para = [para.strip() for para in paragraph[:i] if '?' not in para][::-1]\n",
    "                if len(related_para) > 20:\n",
    "                    related_para = related_para[:20]\n",
    "                context.append(related_para)\n",
    "                label.append([i for i in range(len(related_para))])\n",
    "                q_a_ah = sent.split('\\t')\n",
    "                question.append(q_a_ah[0].strip())\n",
    "                answer.append(q_a_ah[1].strip())\n",
    "                answer_hint.append(q_a_ah[2].strip())\n",
    "    # check\n",
    "    if (len(question) == len(answer)) & (len(answer) == len(context)) & (len(context) == len(label)):\n",
    "        print(\"Data is well prepared!\")\n",
    "        print(\"total: {}\".format(len(label)))\n",
    "    else:\n",
    "        print(\"Something is missing! check again\")\n",
    "        print(\"the number of questions: {}\".format(len(question)))\n",
    "        print(\"the number of answers: {}\".format(len(answer)))\n",
    "        print(\"the number of contexts: {}\".format(len(context)))\n",
    "        print(\"the number of labels: {}\".format(len(label)))\n",
    "        \n",
    "    return context, label, question, answer, answer_hint"
   ]
  },
  {
   "cell_type": "code",
   "execution_count": 5,
   "metadata": {
    "collapsed": false,
    "scrolled": true
   },
   "outputs": [
    {
     "name": "stdout",
     "output_type": "stream",
     "text": [
      "=================\n",
      "data: qa13_train.txt\n",
      "Data is well prepared!\n",
      "total: 8995\n",
      "=================\n",
      "data: qa3_train.txt\n",
      "Data is well prepared!\n",
      "total: 8995\n",
      "=================\n",
      "data: qa14_train.txt\n",
      "Data is well prepared!\n",
      "total: 8995\n",
      "=================\n",
      "data: qa20_train.txt\n",
      "Data is well prepared!\n",
      "total: 8998\n",
      "=================\n",
      "data: qa16_train.txt\n",
      "Data is well prepared!\n",
      "total: 8999\n",
      "=================\n",
      "data: qa1_train.txt\n",
      "Data is well prepared!\n",
      "total: 8995\n",
      "=================\n",
      "data: qa12_train.txt\n",
      "Data is well prepared!\n",
      "total: 8995\n",
      "=================\n",
      "data: qa17_train.txt\n",
      "Data is well prepared!\n",
      "total: 8992\n",
      "=================\n",
      "data: qa7_train.txt\n",
      "Data is well prepared!\n",
      "total: 8995\n",
      "=================\n",
      "data: qa8_train.txt\n",
      "Data is well prepared!\n",
      "total: 8995\n",
      "=================\n",
      "data: qa5_train.txt\n",
      "Data is well prepared!\n",
      "total: 8995\n",
      "=================\n",
      "data: qa2_train.txt\n",
      "Data is well prepared!\n",
      "total: 8995\n",
      "=================\n",
      "data: qa15_train.txt\n",
      "Data is well prepared!\n",
      "total: 8996\n",
      "=================\n",
      "data: qa6_train.txt\n",
      "Data is well prepared!\n",
      "total: 8995\n",
      "=================\n",
      "data: qa18_train.txt\n",
      "Data is well prepared!\n",
      "total: 8991\n",
      "=================\n",
      "data: qa4_train.txt\n",
      "Data is well prepared!\n",
      "total: 8999\n",
      "=================\n",
      "data: qa9_train.txt\n",
      "Data is well prepared!\n",
      "total: 8995\n",
      "=================\n",
      "data: qa19_train.txt\n",
      "Data is well prepared!\n",
      "total: 8999\n",
      "=================\n",
      "data: qa10_train.txt\n",
      "Data is well prepared!\n",
      "total: 8995\n",
      "=================\n",
      "data: qa11_train.txt\n",
      "Data is well prepared!\n",
      "total: 8995\n"
     ]
    }
   ],
   "source": [
    "# prepare training data \n",
    "train_context = []\n",
    "train_label = []\n",
    "train_question = []\n",
    "train_answer = []\n",
    "train_answer_hint = []\n",
    "for train_path in train_paths:\n",
    "    print('=================')    \n",
    "    paragraphs = split_paragraphs(train_path)\n",
    "    print(\"data: {}\".format(os.path.basename(train_path)))\n",
    "    context, label, question, answer, answer_hint = split_clqa(paragraphs)\n",
    "    train_context.extend(context)\n",
    "    train_label.extend(label)\n",
    "    train_question.extend(question)\n",
    "    train_answer.extend(answer)\n",
    "    train_answer_hint.extend(answer_hint)"
   ]
  },
  {
   "cell_type": "code",
   "execution_count": 6,
   "metadata": {
    "collapsed": false,
    "scrolled": true
   },
   "outputs": [
    {
     "name": "stdout",
     "output_type": "stream",
     "text": [
      "=================\n",
      "data: qa19_valid.txt\n",
      "Data is well prepared!\n",
      "total: 999\n",
      "=================\n",
      "data: qa15_valid.txt\n",
      "Data is well prepared!\n",
      "total: 996\n",
      "=================\n",
      "data: qa20_valid.txt\n",
      "Data is well prepared!\n",
      "total: 988\n",
      "=================\n",
      "data: qa1_valid.txt\n",
      "Data is well prepared!\n",
      "total: 995\n",
      "=================\n",
      "data: qa7_valid.txt\n",
      "Data is well prepared!\n",
      "total: 995\n",
      "=================\n",
      "data: qa4_valid.txt\n",
      "Data is well prepared!\n",
      "total: 999\n",
      "=================\n",
      "data: qa12_valid.txt\n",
      "Data is well prepared!\n",
      "total: 995\n",
      "=================\n",
      "data: qa8_valid.txt\n",
      "Data is well prepared!\n",
      "total: 995\n",
      "=================\n",
      "data: qa10_valid.txt\n",
      "Data is well prepared!\n",
      "total: 995\n",
      "=================\n",
      "data: qa2_valid.txt\n",
      "Data is well prepared!\n",
      "total: 995\n",
      "=================\n",
      "data: qa14_valid.txt\n",
      "Data is well prepared!\n",
      "total: 995\n",
      "=================\n",
      "data: qa13_valid.txt\n",
      "Data is well prepared!\n",
      "total: 995\n",
      "=================\n",
      "data: qa18_valid.txt\n",
      "Data is well prepared!\n",
      "total: 999\n",
      "=================\n",
      "data: qa11_valid.txt\n",
      "Data is well prepared!\n",
      "total: 995\n",
      "=================\n",
      "data: qa3_valid.txt\n",
      "Data is well prepared!\n",
      "total: 995\n",
      "=================\n",
      "data: qa17_valid.txt\n",
      "Data is well prepared!\n",
      "total: 992\n",
      "=================\n",
      "data: qa16_valid.txt\n",
      "Data is well prepared!\n",
      "total: 999\n",
      "=================\n",
      "data: qa9_valid.txt\n",
      "Data is well prepared!\n",
      "total: 995\n",
      "=================\n",
      "data: qa5_valid.txt\n",
      "Data is well prepared!\n",
      "total: 995\n",
      "=================\n",
      "data: qa6_valid.txt\n",
      "Data is well prepared!\n",
      "total: 995\n"
     ]
    }
   ],
   "source": [
    "# prepare validation data\n",
    "val_context = []\n",
    "val_label = []\n",
    "val_question = []\n",
    "val_answer = []\n",
    "val_answer_hint = []\n",
    "for val_path in val_paths:\n",
    "    print('=================')    \n",
    "    paragraphs = split_paragraphs(val_path)\n",
    "    print(\"data: {}\".format(os.path.basename(val_path)))\n",
    "    context, label, question, answer, answer_hint = split_clqa(paragraphs)\n",
    "    val_context.extend(context)\n",
    "    val_label.extend(label)\n",
    "    val_question.extend(question)\n",
    "    val_answer.extend(answer)\n",
    "    val_answer_hint.extend(answer_hint)"
   ]
  },
  {
   "cell_type": "code",
   "execution_count": 7,
   "metadata": {
    "collapsed": false,
    "scrolled": true
   },
   "outputs": [
    {
     "name": "stdout",
     "output_type": "stream",
     "text": [
      "=================\n",
      "data: qa7_test.txt\n",
      "Data is well prepared!\n",
      "total: 995\n",
      "=================\n",
      "data: qa2_test.txt\n",
      "Data is well prepared!\n",
      "total: 995\n",
      "=================\n",
      "data: qa6_test.txt\n",
      "Data is well prepared!\n",
      "total: 995\n",
      "=================\n",
      "data: qa11_test.txt\n",
      "Data is well prepared!\n",
      "total: 995\n",
      "=================\n",
      "data: qa3_test.txt\n",
      "Data is well prepared!\n",
      "total: 995\n",
      "=================\n",
      "data: qa4_test.txt\n",
      "Data is well prepared!\n",
      "total: 999\n",
      "=================\n",
      "data: qa8_test.txt\n",
      "Data is well prepared!\n",
      "total: 995\n",
      "=================\n",
      "data: qa16_test.txt\n",
      "Data is well prepared!\n",
      "total: 999\n",
      "=================\n",
      "data: qa10_test.txt\n",
      "Data is well prepared!\n",
      "total: 995\n",
      "=================\n",
      "data: qa17_test.txt\n",
      "Data is well prepared!\n",
      "total: 992\n",
      "=================\n",
      "data: qa20_test.txt\n",
      "Data is well prepared!\n",
      "total: 993\n",
      "=================\n",
      "data: qa1_test.txt\n",
      "Data is well prepared!\n",
      "total: 995\n",
      "=================\n",
      "data: qa5_test.txt\n",
      "Data is well prepared!\n",
      "total: 995\n",
      "=================\n",
      "data: qa19_test.txt\n",
      "Data is well prepared!\n",
      "total: 999\n",
      "=================\n",
      "data: qa18_test.txt\n",
      "Data is well prepared!\n",
      "total: 997\n",
      "=================\n",
      "data: qa9_test.txt\n",
      "Data is well prepared!\n",
      "total: 995\n",
      "=================\n",
      "data: qa12_test.txt\n",
      "Data is well prepared!\n",
      "total: 995\n",
      "=================\n",
      "data: qa13_test.txt\n",
      "Data is well prepared!\n",
      "total: 995\n",
      "=================\n",
      "data: qa15_test.txt\n",
      "Data is well prepared!\n",
      "total: 996\n",
      "=================\n",
      "data: qa14_test.txt\n",
      "Data is well prepared!\n",
      "total: 995\n"
     ]
    }
   ],
   "source": [
    "# prepare test data\n",
    "test_context = []\n",
    "test_label = []\n",
    "test_question = []\n",
    "test_answer = []\n",
    "test_answer_hint = []\n",
    "for test_path in test_paths:\n",
    "    print('=================')    \n",
    "    paragraphs = split_paragraphs(test_path)\n",
    "    print(\"data: {}\".format(os.path.basename(test_path)))\n",
    "    context, label, question, answer, answer_hint = split_clqa(paragraphs)\n",
    "    test_context.extend(context)\n",
    "    test_label.extend(label)\n",
    "    test_question.extend(question)\n",
    "    test_answer.extend(answer)\n",
    "    test_answer_hint.extend(answer_hint)"
   ]
  },
  {
   "cell_type": "code",
   "execution_count": 8,
   "metadata": {
    "collapsed": false
   },
   "outputs": [],
   "source": [
    "# convert to index\n",
    "# word set\n",
    "cq_word_set = set()\n",
    "list_of_context = [train_context, val_context, test_context]\n",
    "list_of_question = [train_question, val_question, test_question]\n",
    "\n",
    "for list_ in list_of_context:\n",
    "    for para in list_:\n",
    "        for sent in para:\n",
    "            sent = sent.replace(\".\", \"\")\n",
    "            sent = sent.replace(\"?\", \"\")\n",
    "            sent = sent.split(\" \")\n",
    "            cq_word_set.update(sent)\n",
    "            \n",
    "for list_ in list_of_question:\n",
    "    for sent in list_:\n",
    "        sent = sent.replace(\".\", \"\")\n",
    "        sent = sent.replace(\"?\", \"\")\n",
    "        sent = sent.split()\n",
    "        cq_word_set.update(sent)"
   ]
  },
  {
   "cell_type": "code",
   "execution_count": 9,
   "metadata": {
    "collapsed": true
   },
   "outputs": [],
   "source": [
    "answer_word_set = set()\n",
    "list_of_answer = [train_answer, val_answer, test_answer]\n",
    "for answers in list_of_answer:\n",
    "    for answer in answers:\n",
    "            answer_word_set.add(answer)"
   ]
  },
  {
   "cell_type": "code",
   "execution_count": 10,
   "metadata": {
    "collapsed": false
   },
   "outputs": [
    {
     "name": "stdout",
     "output_type": "stream",
     "text": [
      "context and question words: 161\n",
      "answer words: 60\n"
     ]
    }
   ],
   "source": [
    "print(\"context and question words: {}\".format(len(cq_word_set)))\n",
    "print(\"answer words: {}\".format(len(answer_word_set)))"
   ]
  },
  {
   "cell_type": "code",
   "execution_count": 11,
   "metadata": {
    "collapsed": true
   },
   "outputs": [],
   "source": [
    "cq_word_index = {}\n",
    "for i, word in enumerate(cq_word_set):\n",
    "    cq_word_index[word] = i\n",
    "\n",
    "answer_word_index = {}\n",
    "for i, word in enumerate(answer_word_set):\n",
    "    answer_one_hot = np.zeros([len(answer_word_set)])\n",
    "    answer_one_hot[i] = 1\n",
    "    answer_word_index[word] = answer_one_hot"
   ]
  },
  {
   "cell_type": "code",
   "execution_count": 12,
   "metadata": {
    "collapsed": false
   },
   "outputs": [],
   "source": [
    "train_context_index = []\n",
    "val_context_index = []\n",
    "test_context_index = []\n",
    "\n",
    "for para in train_context:\n",
    "    indexed_para = []\n",
    "    for sent in para:\n",
    "        sent = sent.replace(\".\", \"\")\n",
    "        sent = sent.replace(\"?\", \"\")\n",
    "        sent = sent.split(\" \")\n",
    "        indexed_sent = []\n",
    "        for word in sent:\n",
    "            indexed_sent.append(cq_word_index[word])\n",
    "        indexed_para.append(indexed_sent)\n",
    "    train_context_index.append(np.array(indexed_para))\n",
    "    \n",
    "for para in val_context:\n",
    "    indexed_para = []\n",
    "    for sent in para:\n",
    "        sent = sent.replace(\".\", \"\")\n",
    "        sent = sent.replace(\"?\", \"\")\n",
    "        sent = sent.split(\" \")\n",
    "        indexed_sent = []\n",
    "        for word in sent:\n",
    "            indexed_sent.append(cq_word_index[word])\n",
    "        indexed_para.append(indexed_sent)\n",
    "    val_context_index.append(np.array(indexed_para))\n",
    "    \n",
    "for para in test_context:\n",
    "    indexed_para = []\n",
    "    for sent in para:\n",
    "        sent = sent.replace(\".\", \"\")\n",
    "        sent = sent.replace(\"?\", \"\")\n",
    "        sent = sent.split(\" \")\n",
    "        indexed_sent = []\n",
    "        for word in sent:\n",
    "            indexed_sent.append(cq_word_index[word])\n",
    "        indexed_para.append(indexed_sent)\n",
    "    test_context_index.append(np.array(indexed_para))"
   ]
  },
  {
   "cell_type": "code",
   "execution_count": 13,
   "metadata": {
    "collapsed": false
   },
   "outputs": [
    {
     "name": "stdout",
     "output_type": "stream",
     "text": [
      "context encoding is completed!\n"
     ]
    }
   ],
   "source": [
    "if (len(train_context_index) + len(val_context_index) + len(test_context_index)) == (len(train_context) + len(test_context) + len(val_context)):\n",
    "    print(\"context encoding is completed!\")\n",
    "else:\n",
    "    print(\"Something is missing! Check again\")"
   ]
  },
  {
   "cell_type": "code",
   "execution_count": 14,
   "metadata": {
    "collapsed": false
   },
   "outputs": [],
   "source": [
    "train_question_index = []\n",
    "val_question_index = []\n",
    "test_question_index = []\n",
    "\n",
    "for sent in train_question:\n",
    "    sent = sent.replace(\".\", \"\")\n",
    "    sent = sent.replace(\"?\", \"\")\n",
    "    sent = sent.split()\n",
    "    indexed_sent = []\n",
    "    for word in sent:\n",
    "        indexed_sent.append(cq_word_index[word])\n",
    "    train_question_index.append(np.array(indexed_sent))\n",
    "    \n",
    "for sent in val_question:\n",
    "    sent = sent.replace(\".\", \"\")\n",
    "    sent = sent.replace(\"?\", \"\")\n",
    "    sent = sent.split()\n",
    "    indexed_sent = []\n",
    "    for word in sent:\n",
    "        indexed_sent.append(cq_word_index[word])\n",
    "    val_question_index.append(np.array(indexed_sent))\n",
    "    \n",
    "for sent in test_question:\n",
    "    sent = sent.replace(\".\", \"\")\n",
    "    sent = sent.replace(\"?\", \"\")\n",
    "    sent = sent.split()\n",
    "    indexed_sent = []\n",
    "    for word in sent:\n",
    "        indexed_sent.append(cq_word_index[word])\n",
    "    test_question_index.append(np.array(indexed_sent))"
   ]
  },
  {
   "cell_type": "code",
   "execution_count": 15,
   "metadata": {
    "collapsed": false
   },
   "outputs": [
    {
     "name": "stdout",
     "output_type": "stream",
     "text": [
      "question encoding is completed!\n"
     ]
    }
   ],
   "source": [
    "if (len(train_question_index) + len(val_question_index) + len(test_question_index)) == (len(train_question) + len(test_question) + len(val_question)):\n",
    "    print(\"question encoding is completed!\")\n",
    "else:\n",
    "    print(\"Something is missing! Check again\")"
   ]
  },
  {
   "cell_type": "code",
   "execution_count": 16,
   "metadata": {
    "collapsed": false
   },
   "outputs": [],
   "source": [
    "train_answer_index = []\n",
    "val_answer_index = []\n",
    "test_answer_index = []\n",
    "\n",
    "for answer in train_answer:\n",
    "    indexed_answer = answer_word_index[answer]\n",
    "    train_answer_index.append(indexed_answer)\n",
    "    \n",
    "for answer in val_answer:\n",
    "    indexed_answer = answer_word_index[answer]\n",
    "    val_answer_index.append(indexed_answer)\n",
    "    \n",
    "for answer in test_answer:\n",
    "    indexed_answer = answer_word_index[answer]\n",
    "    test_answer_index.append(indexed_answer)"
   ]
  },
  {
   "cell_type": "code",
   "execution_count": 17,
   "metadata": {
    "collapsed": false
   },
   "outputs": [
    {
     "name": "stdout",
     "output_type": "stream",
     "text": [
      "answer encoding is completed!\n"
     ]
    }
   ],
   "source": [
    "if (len(train_answer_index)+ len(val_answer_index) + len(test_answer_index)) == (len(train_answer) + len(test_answer) + len(val_answer)):\n",
    "    print(\"answer encoding is completed!\")\n",
    "else:\n",
    "    print(\"Something is missing! Check again\")"
   ]
  },
  {
   "cell_type": "code",
   "execution_count": 18,
   "metadata": {
    "collapsed": false
   },
   "outputs": [],
   "source": [
    "train_label_index = []\n",
    "val_label_index = []\n",
    "test_label_index = []\n",
    "\n",
    "for label in train_label:\n",
    "    train_label_index.append(np.eye(20)[label])\n",
    "    \n",
    "for label in val_label:\n",
    "    val_label_index.append(np.eye(20)[label])\n",
    "\n",
    "for label in test_label:\n",
    "    test_label_index.append(np.eye(20)[label])"
   ]
  },
  {
   "cell_type": "code",
   "execution_count": 19,
   "metadata": {
    "collapsed": false
   },
   "outputs": [
    {
     "name": "stdout",
     "output_type": "stream",
     "text": [
      "label encoding is completed!\n"
     ]
    }
   ],
   "source": [
    "if (len(train_label_index)+ len(val_label_index) + len(test_label_index)) == (len(train_label) + len(test_label) + len(val_label)):\n",
    "    print(\"label encoding is completed!\")\n",
    "else:\n",
    "    print(\"Something is missing! Check again\")"
   ]
  },
  {
   "cell_type": "code",
   "execution_count": 20,
   "metadata": {
    "collapsed": true
   },
   "outputs": [],
   "source": [
    "train_dataset = (train_question_index, train_answer_index, train_context_index, train_label_index)\n",
    "val_dataset = (val_question_index, val_answer_index, val_context_index, val_label_index)\n",
    "test_dataset = (test_question_index, test_answer_index, test_context_index, test_label_index)"
   ]
  },
  {
   "cell_type": "code",
   "execution_count": 21,
   "metadata": {
    "collapsed": false
   },
   "outputs": [],
   "source": [
    "with open('babi_preprocessd/train_dataset.pkl', 'wb') as f:\n",
    "    pickle.dump(train_dataset, f)\n",
    "\n",
    "with open('babi_preprocessd/val_dataset.pkl', 'wb') as f:\n",
    "    pickle.dump(val_dataset, f)\n",
    "    \n",
    "with open('babi_preprocessd/test_dataset.pkl', 'wb') as f:\n",
    "    pickle.dump(test_dataset, f)"
   ]
  },
  {
   "cell_type": "code",
   "execution_count": null,
   "metadata": {
    "collapsed": true
   },
   "outputs": [],
   "source": []
  }
 ],
 "metadata": {
  "kernelspec": {
   "display_name": "Python 3",
   "language": "python",
   "name": "python3"
  },
  "language_info": {
   "codemirror_mode": {
    "name": "ipython",
    "version": 3
   },
   "file_extension": ".py",
   "mimetype": "text/x-python",
   "name": "python",
   "nbconvert_exporter": "python",
   "pygments_lexer": "ipython3",
   "version": "3.6.0"
  }
 },
 "nbformat": 4,
 "nbformat_minor": 2
}
