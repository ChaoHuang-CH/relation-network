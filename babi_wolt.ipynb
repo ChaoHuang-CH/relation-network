{
 "cells": [
  {
   "cell_type": "code",
   "execution_count": 1,
   "metadata": {
    "collapsed": true
   },
   "outputs": [],
   "source": [
    "import numpy as np\n",
    "import os\n",
    "import pickle\n",
    "import re\n",
    "from scipy.sparse import lil_matrix, csr_matrix"
   ]
  },
  {
   "cell_type": "code",
   "execution_count": 2,
   "metadata": {
    "collapsed": true
   },
   "outputs": [],
   "source": [
    "train_paths = []\n",
    "val_paths = []\n",
    "test_paths= []\n",
    "for dirpath, dirnames, filenames in os.walk(\"./tasks_1-20_v1-2/en-valid-10k/\"):\n",
    "    for filename in filenames:\n",
    "        if 'train' in filename:\n",
    "            train_paths.append(os.path.join(dirpath, filename))\n",
    "        elif 'val' in filename:\n",
    "            val_paths.append(os.path.join(dirpath, filename))\n",
    "        else:\n",
    "            test_paths.append(os.path.join(dirpath, filename))"
   ]
  },
  {
   "cell_type": "code",
   "execution_count": 3,
   "metadata": {
    "collapsed": true
   },
   "outputs": [],
   "source": [
    "def split_paragraphs(path_to_file):\n",
    "    \"\"\"\n",
    "    split into paragraphs\n",
    "    \n",
    "    Attributes: \n",
    "        file_path: path of the data\n",
    "    \n",
    "    Returns:\n",
    "        paragraphs: list of paragraph\n",
    "    \"\"\"\n",
    "    with open(path_to_file, 'r') as f:\n",
    "        babi = f.readlines()\n",
    "    \n",
    "    paragraph = []\n",
    "    paragraphs = []\n",
    "    alphabet = re.compile('[a-zA-Z]')\n",
    "    for d in babi:\n",
    "        if d.startswith('1 '):\n",
    "            if paragraph:\n",
    "                paragraphs.append(paragraph)\n",
    "            paragraph = []\n",
    "        mark = re.search(alphabet, d).span()[0]\n",
    "        paragraph.append(d[mark:])\n",
    "        \n",
    "    return paragraphs"
   ]
  },
  {
   "cell_type": "code",
   "execution_count": 4,
   "metadata": {
    "collapsed": true
   },
   "outputs": [],
   "source": [
    "def split_clqa(paragraphs):\n",
    "    \"\"\"\n",
    "    for each paragraph, split into context, label, question and answer\n",
    "\n",
    "    Attributes:\n",
    "        paragraphs: list of paragraphs \n",
    "    \n",
    "    Returns:\n",
    "        context: list of contexts\n",
    "        label: list of labels\n",
    "        question: list of questions\n",
    "        answer: list of answers\n",
    "        answer_hint: list of answer_hints\n",
    "    \"\"\"\n",
    "    context = []\n",
    "    label = []\n",
    "    question = []\n",
    "    answer = []\n",
    "    answer_hint = []\n",
    "    for paragraph in paragraphs:\n",
    "        for i, sent in enumerate(paragraph):\n",
    "            if '?' in sent:\n",
    "                related_para = [para.strip().lower() for para in paragraph[:i] if '?' not in para][::-1]\n",
    "                if len(related_para) > 20:\n",
    "                    related_para = related_para[:20]\n",
    "                context.append(related_para)\n",
    "                label.append([i for i in range(len(related_para))])\n",
    "                q_a_ah = sent.split('\\t')\n",
    "                question.append(q_a_ah[0].strip().lower())\n",
    "                answer.append(q_a_ah[1].strip().lower())\n",
    "                answer_hint.append(q_a_ah[2].strip())\n",
    "    # check\n",
    "    if (len(question) == len(answer)) & (len(answer) == len(context)) & (len(context) == len(label)):\n",
    "        print(\"Data is well prepared!\")\n",
    "        print(\"total: {}\".format(len(label)))\n",
    "    else:\n",
    "        print(\"Something is missing! check again\")\n",
    "        print(\"the number of questions: {}\".format(len(question)))\n",
    "        print(\"the number of answers: {}\".format(len(answer)))\n",
    "        print(\"the number of contexts: {}\".format(len(context)))\n",
    "        print(\"the number of labels: {}\".format(len(label)))\n",
    "        \n",
    "    return context, label, question, answer, answer_hint"
   ]
  },
  {
   "cell_type": "code",
   "execution_count": 5,
   "metadata": {},
   "outputs": [
    {
     "name": "stdout",
     "output_type": "stream",
     "text": [
      "=================\n",
      "data: qa6_train.txt\n",
      "Data is well prepared!\n",
      "total: 8995\n",
      "=================\n",
      "data: qa16_train.txt\n",
      "Data is well prepared!\n",
      "total: 8999\n",
      "=================\n",
      "data: qa19_train.txt\n",
      "Data is well prepared!\n",
      "total: 8999\n",
      "=================\n",
      "data: qa15_train.txt\n",
      "Data is well prepared!\n",
      "total: 8996\n",
      "=================\n",
      "data: qa17_train.txt\n",
      "Data is well prepared!\n",
      "total: 8992\n",
      "=================\n",
      "data: qa10_train.txt\n",
      "Data is well prepared!\n",
      "total: 8995\n",
      "=================\n",
      "data: qa7_train.txt\n",
      "Data is well prepared!\n",
      "total: 8995\n",
      "=================\n",
      "data: qa2_train.txt\n",
      "Data is well prepared!\n",
      "total: 8995\n",
      "=================\n",
      "data: qa9_train.txt\n",
      "Data is well prepared!\n",
      "total: 8995\n",
      "=================\n",
      "data: qa5_train.txt\n",
      "Data is well prepared!\n",
      "total: 8995\n",
      "=================\n",
      "data: qa11_train.txt\n",
      "Data is well prepared!\n",
      "total: 8995\n",
      "=================\n",
      "data: qa1_train.txt\n",
      "Data is well prepared!\n",
      "total: 8995\n",
      "=================\n",
      "data: qa13_train.txt\n",
      "Data is well prepared!\n",
      "total: 8995\n",
      "=================\n",
      "data: qa12_train.txt\n",
      "Data is well prepared!\n",
      "total: 8995\n",
      "=================\n",
      "data: qa20_train.txt\n",
      "Data is well prepared!\n",
      "total: 8998\n",
      "=================\n",
      "data: qa18_train.txt\n",
      "Data is well prepared!\n",
      "total: 8991\n",
      "=================\n",
      "data: qa8_train.txt\n",
      "Data is well prepared!\n",
      "total: 8995\n",
      "=================\n",
      "data: qa3_train.txt\n",
      "Data is well prepared!\n",
      "total: 8995\n",
      "=================\n",
      "data: qa4_train.txt\n",
      "Data is well prepared!\n",
      "total: 8999\n",
      "=================\n",
      "data: qa14_train.txt\n",
      "Data is well prepared!\n",
      "total: 8995\n"
     ]
    }
   ],
   "source": [
    "# prepare training data \n",
    "train_context = []\n",
    "train_label = []\n",
    "train_question = []\n",
    "train_answer = []\n",
    "train_answer_hint = []\n",
    "for train_path in train_paths:\n",
    "    print('=================')    \n",
    "    paragraphs = split_paragraphs(train_path)\n",
    "    print(\"data: {}\".format(os.path.basename(train_path)))\n",
    "    context, label, question, answer, answer_hint = split_clqa(paragraphs)\n",
    "    train_context.extend(context)\n",
    "    train_label.extend(label)\n",
    "    train_question.extend(question)\n",
    "    train_answer.extend(answer)\n",
    "    train_answer_hint.extend(answer_hint)"
   ]
  },
  {
   "cell_type": "code",
   "execution_count": 6,
   "metadata": {},
   "outputs": [
    {
     "name": "stdout",
     "output_type": "stream",
     "text": [
      "=================\n",
      "data: qa5_valid.txt\n",
      "Data is well prepared!\n",
      "total: 995\n",
      "=================\n",
      "data: qa17_valid.txt\n",
      "Data is well prepared!\n",
      "total: 992\n",
      "=================\n",
      "data: qa10_valid.txt\n",
      "Data is well prepared!\n",
      "total: 995\n",
      "=================\n",
      "data: qa16_valid.txt\n",
      "Data is well prepared!\n",
      "total: 999\n",
      "=================\n",
      "data: qa6_valid.txt\n",
      "Data is well prepared!\n",
      "total: 995\n",
      "=================\n",
      "data: qa2_valid.txt\n",
      "Data is well prepared!\n",
      "total: 995\n",
      "=================\n",
      "data: qa14_valid.txt\n",
      "Data is well prepared!\n",
      "total: 995\n",
      "=================\n",
      "data: qa1_valid.txt\n",
      "Data is well prepared!\n",
      "total: 995\n",
      "=================\n",
      "data: qa19_valid.txt\n",
      "Data is well prepared!\n",
      "total: 999\n",
      "=================\n",
      "data: qa8_valid.txt\n",
      "Data is well prepared!\n",
      "total: 995\n",
      "=================\n",
      "data: qa11_valid.txt\n",
      "Data is well prepared!\n",
      "total: 995\n",
      "=================\n",
      "data: qa4_valid.txt\n",
      "Data is well prepared!\n",
      "total: 999\n",
      "=================\n",
      "data: qa3_valid.txt\n",
      "Data is well prepared!\n",
      "total: 995\n",
      "=================\n",
      "data: qa12_valid.txt\n",
      "Data is well prepared!\n",
      "total: 995\n",
      "=================\n",
      "data: qa13_valid.txt\n",
      "Data is well prepared!\n",
      "total: 995\n",
      "=================\n",
      "data: qa20_valid.txt\n",
      "Data is well prepared!\n",
      "total: 988\n",
      "=================\n",
      "data: qa7_valid.txt\n",
      "Data is well prepared!\n",
      "total: 995\n",
      "=================\n",
      "data: qa9_valid.txt\n",
      "Data is well prepared!\n",
      "total: 995\n",
      "=================\n",
      "data: qa15_valid.txt\n",
      "Data is well prepared!\n",
      "total: 996\n",
      "=================\n",
      "data: qa18_valid.txt\n",
      "Data is well prepared!\n",
      "total: 999\n"
     ]
    }
   ],
   "source": [
    "# prepare validation data\n",
    "val_context = []\n",
    "val_label = []\n",
    "val_question = []\n",
    "val_answer = []\n",
    "val_answer_hint = []\n",
    "for val_path in val_paths:\n",
    "    print('=================')    \n",
    "    paragraphs = split_paragraphs(val_path)\n",
    "    print(\"data: {}\".format(os.path.basename(val_path)))\n",
    "    context, label, question, answer, answer_hint = split_clqa(paragraphs)\n",
    "    val_context.extend(context)\n",
    "    val_label.extend(label)\n",
    "    val_question.extend(question)\n",
    "    val_answer.extend(answer)\n",
    "    val_answer_hint.extend(answer_hint)"
   ]
  },
  {
   "cell_type": "code",
   "execution_count": 7,
   "metadata": {},
   "outputs": [
    {
     "name": "stdout",
     "output_type": "stream",
     "text": [
      "=================\n",
      "data: qa13_test.txt\n",
      "Data is well prepared!\n",
      "total: 995\n",
      "=================\n",
      "data: qa16_test.txt\n",
      "Data is well prepared!\n",
      "total: 999\n",
      "=================\n",
      "data: qa6_test.txt\n",
      "Data is well prepared!\n",
      "total: 995\n",
      "=================\n",
      "data: qa8_test.txt\n",
      "Data is well prepared!\n",
      "total: 995\n",
      "=================\n",
      "data: qa3_test.txt\n",
      "Data is well prepared!\n",
      "total: 995\n",
      "=================\n",
      "data: qa14_test.txt\n",
      "Data is well prepared!\n",
      "total: 995\n",
      "=================\n",
      "data: qa18_test.txt\n",
      "Data is well prepared!\n",
      "total: 997\n",
      "=================\n",
      "data: qa12_test.txt\n",
      "Data is well prepared!\n",
      "total: 995\n",
      "=================\n",
      "data: qa15_test.txt\n",
      "Data is well prepared!\n",
      "total: 996\n",
      "=================\n",
      "data: qa2_test.txt\n",
      "Data is well prepared!\n",
      "total: 995\n",
      "=================\n",
      "data: qa10_test.txt\n",
      "Data is well prepared!\n",
      "total: 995\n",
      "=================\n",
      "data: qa17_test.txt\n",
      "Data is well prepared!\n",
      "total: 992\n",
      "=================\n",
      "data: qa1_test.txt\n",
      "Data is well prepared!\n",
      "total: 995\n",
      "=================\n",
      "data: qa19_test.txt\n",
      "Data is well prepared!\n",
      "total: 999\n",
      "=================\n",
      "data: qa11_test.txt\n",
      "Data is well prepared!\n",
      "total: 995\n",
      "=================\n",
      "data: qa5_test.txt\n",
      "Data is well prepared!\n",
      "total: 995\n",
      "=================\n",
      "data: qa20_test.txt\n",
      "Data is well prepared!\n",
      "total: 993\n",
      "=================\n",
      "data: qa9_test.txt\n",
      "Data is well prepared!\n",
      "total: 995\n",
      "=================\n",
      "data: qa4_test.txt\n",
      "Data is well prepared!\n",
      "total: 999\n",
      "=================\n",
      "data: qa7_test.txt\n",
      "Data is well prepared!\n",
      "total: 995\n"
     ]
    }
   ],
   "source": [
    "# prepare test data\n",
    "test_context = []\n",
    "test_label = []\n",
    "test_question = []\n",
    "test_answer = []\n",
    "test_answer_hint = []\n",
    "for test_path in test_paths:\n",
    "    print('=================')    \n",
    "    paragraphs = split_paragraphs(test_path)\n",
    "    print(\"data: {}\".format(os.path.basename(test_path)))\n",
    "    context, label, question, answer, answer_hint = split_clqa(paragraphs)\n",
    "    test_context.extend(context)\n",
    "    test_label.extend(label)\n",
    "    test_question.extend(question)\n",
    "    test_answer.extend(answer)\n",
    "    test_answer_hint.extend(answer_hint)"
   ]
  },
  {
   "cell_type": "code",
   "execution_count": 8,
   "metadata": {
    "collapsed": true
   },
   "outputs": [],
   "source": [
    "# convert to index\n",
    "# word set\n",
    "c_word_set = set()\n",
    "q_word_set = set()\n",
    "a_word_set = set()\n",
    "\n",
    "list_of_context = [train_context, val_context, test_context]\n",
    "list_of_question = [train_question, val_question, test_question]\n",
    "list_of_answer = [train_answer, val_answer, test_answer]\n",
    "\n",
    "for list_ in list_of_context:\n",
    "    for para in list_:\n",
    "        for sent in para:\n",
    "            sent = sent.replace(\".\", \" . \")\n",
    "            sent = sent.replace(\"?\", \" ? \")\n",
    "#             sent = sent.replace(\",\", \" , \")\n",
    "            sent = sent.split()\n",
    "            c_word_set.update(sent)\n",
    "            \n",
    "for list_ in list_of_question:\n",
    "    for sent in list_:\n",
    "        sent = sent.replace(\".\", \" .\")\n",
    "        sent = sent.replace(\"?\", \" ? \")\n",
    "#         sent = sent.replace(\",\", \" , \")\n",
    "        sent = sent.split()\n",
    "        q_word_set.update(sent)\n",
    "        \n",
    "for answers in list_of_answer:\n",
    "    for answer in answers:\n",
    "        answer = answer.replace(\",\", \" , \")\n",
    "        answer = answer.split()\n",
    "        a_word_set.update(answer)"
   ]
  },
  {
   "cell_type": "code",
   "execution_count": 9,
   "metadata": {
    "collapsed": true
   },
   "outputs": [],
   "source": [
    "cqa_word_set = c_word_set.union(q_word_set).union(a_word_set)"
   ]
  },
  {
   "cell_type": "code",
   "execution_count": 10,
   "metadata": {},
   "outputs": [
    {
     "name": "stdout",
     "output_type": "stream",
     "text": [
      "context words: 124\n",
      "question words: 88\n",
      "answer words: 41\n",
      "all words: 159\n"
     ]
    }
   ],
   "source": [
    "print(\"context words: {}\".format(len(c_word_set)))\n",
    "print(\"question words: {}\".format(len(q_word_set)))\n",
    "print(\"answer words: {}\".format(len(a_word_set)))\n",
    "print(\"all words: {}\".format(len(cqa_word_set)))"
   ]
  },
  {
   "cell_type": "code",
   "execution_count": 11,
   "metadata": {
    "collapsed": true
   },
   "outputs": [],
   "source": [
    "# with open('./babi_preprocessed/c_word_set.pkl', 'wb') as f:\n",
    "#     pickle.dump(c_word_set, f)\n",
    "# with open('./babi_preprocessed/q_word_set.pkl', 'wb') as f:\n",
    "#     pickle.dump(q_word_set, f)\n",
    "# with open('./babi_preprocessed/a_word_set.pkl', 'wb') as f:\n",
    "#     pickle.dump(a_word_set, f)\n",
    "# with open('./babi_preprocessed/cqa_word_set.pkl', 'wb') as f:\n",
    "#     pickle.dump(cqa_word_set, f)"
   ]
  },
  {
   "cell_type": "code",
   "execution_count": 12,
   "metadata": {
    "collapsed": true
   },
   "outputs": [],
   "source": [
    "c_word_index = {}\n",
    "for i, word in enumerate(c_word_set):\n",
    "    context_one_hot = np.zeros([len(c_word_set)], dtype=np.int8)\n",
    "    context_one_hot[i] = 1\n",
    "    c_word_index[word] = context_one_hot\n",
    "    \n",
    "q_word_index = {}\n",
    "for i, word in enumerate(q_word_set):\n",
    "    question_one_hot = np.zeros([len(q_word_set)], dtype=np.int8)\n",
    "    question_one_hot[i] = 1\n",
    "    q_word_index[word] = question_one_hot\n",
    "    \n",
    "a_word_index = {}\n",
    "for i, word in enumerate(cqa_word_set):\n",
    "#     if word in a_word_set:\n",
    "    answer_one_hot = np.zeros([len(cqa_word_set)], dtype=np.int8)\n",
    "    answer_one_hot[i] = 1\n",
    "    a_word_index[word] = answer_one_hot"
   ]
  },
  {
   "cell_type": "code",
   "execution_count": 13,
   "metadata": {
    "collapsed": true
   },
   "outputs": [],
   "source": [
    "train_context_index = []\n",
    "val_context_index = []\n",
    "test_context_index = []\n",
    "\n",
    "for para in train_context:\n",
    "    indexed_para = []\n",
    "    for sent in para:\n",
    "        sent = sent.replace(\".\", \" .\")\n",
    "        sent = sent.replace(\"?\", \" ?\")\n",
    "        sent = sent.split(\" \")\n",
    "        indexed_sent = []\n",
    "        for word in sent:\n",
    "            indexed_sent.append(c_word_index[word])\n",
    "        indexed_para.append(indexed_sent)\n",
    "    train_context_index.append(np.array(indexed_para))\n",
    "    \n",
    "for para in val_context:\n",
    "    indexed_para = []\n",
    "    for sent in para:\n",
    "        sent = sent.replace(\".\", \" .\")\n",
    "        sent = sent.replace(\"?\", \" ?\")\n",
    "        sent = sent.split(\" \")\n",
    "        indexed_sent = []\n",
    "        for word in sent:\n",
    "            indexed_sent.append(c_word_index[word])\n",
    "        indexed_para.append(indexed_sent)\n",
    "    val_context_index.append(np.array(indexed_para))\n",
    "    \n",
    "for para in test_context:\n",
    "    indexed_para = []\n",
    "    for sent in para:\n",
    "        sent = sent.replace(\".\", \" .\")\n",
    "        sent = sent.replace(\"?\", \" ?\")\n",
    "        sent = sent.split(\" \")\n",
    "        indexed_sent = []\n",
    "        for word in sent:\n",
    "            indexed_sent.append(c_word_index[word])\n",
    "        indexed_para.append(indexed_sent)\n",
    "    test_context_index.append(np.array(indexed_para))"
   ]
  },
  {
   "cell_type": "code",
   "execution_count": 14,
   "metadata": {},
   "outputs": [
    {
     "name": "stdout",
     "output_type": "stream",
     "text": [
      "context encoding is completed!\n"
     ]
    }
   ],
   "source": [
    "if (len(train_context_index) + len(val_context_index) + len(test_context_index)) == (len(train_context) + len(test_context) + len(val_context)):\n",
    "    print(\"context encoding is completed!\")\n",
    "else:\n",
    "    print(\"Something is missing! Check again\")"
   ]
  },
  {
   "cell_type": "code",
   "execution_count": 15,
   "metadata": {
    "collapsed": true
   },
   "outputs": [],
   "source": [
    "train_question_index = []\n",
    "val_question_index = []\n",
    "test_question_index = []\n",
    "\n",
    "for sent in train_question:\n",
    "    sent = sent.replace(\".\", \" .\")\n",
    "    sent = sent.replace(\"?\", \" ?\")\n",
    "    sent = sent.split()\n",
    "    indexed_sent = []\n",
    "    for word in sent:\n",
    "        indexed_sent.append(q_word_index[word])\n",
    "    train_question_index.append(np.array(indexed_sent))\n",
    "    \n",
    "for sent in val_question:\n",
    "    sent = sent.replace(\".\", \" .\")\n",
    "    sent = sent.replace(\"?\", \" ?\")\n",
    "    sent = sent.split()\n",
    "    indexed_sent = []\n",
    "    for word in sent:\n",
    "        indexed_sent.append(q_word_index[word])\n",
    "    val_question_index.append(np.array(indexed_sent))\n",
    "    \n",
    "for sent in test_question:\n",
    "    sent = sent.replace(\".\", \" .\")\n",
    "    sent = sent.replace(\"?\", \" ?\")\n",
    "    sent = sent.split()\n",
    "    indexed_sent = []\n",
    "    for word in sent:\n",
    "        indexed_sent.append(q_word_index[word])\n",
    "    test_question_index.append(np.array(indexed_sent))"
   ]
  },
  {
   "cell_type": "code",
   "execution_count": 16,
   "metadata": {},
   "outputs": [
    {
     "name": "stdout",
     "output_type": "stream",
     "text": [
      "question encoding is completed!\n"
     ]
    }
   ],
   "source": [
    "if (len(train_question_index) + len(val_question_index) + len(test_question_index)) == (len(train_question) + len(test_question) + len(val_question)):\n",
    "    print(\"question encoding is completed!\")\n",
    "else:\n",
    "    print(\"Something is missing! Check again\")"
   ]
  },
  {
   "cell_type": "code",
   "execution_count": 17,
   "metadata": {
    "collapsed": true
   },
   "outputs": [],
   "source": [
    "train_answer_index = []\n",
    "val_answer_index = []\n",
    "test_answer_index = []\n",
    "\n",
    "for answer in train_answer:\n",
    "    if ',' in answer:\n",
    "        answers = answer.split(\",\")\n",
    "        tmp_indexed_answer = np.zeros([len(cqa_word_set)], dtype=np.int8)\n",
    "        for ans in answers:\n",
    "            tmp_indexed_answer += a_word_index[ans]\n",
    "        train_answer_index.append(tmp_indexed_answer)\n",
    "    else:\n",
    "        indexed_answer = a_word_index[answer]\n",
    "        train_answer_index.append(indexed_answer)\n",
    "    \n",
    "for answer in val_answer:\n",
    "    if ',' in answer:\n",
    "        answers = answer.split(\",\")\n",
    "        tmp_indexed_answer = np.zeros([len(cqa_word_set)], dtype=np.int8)\n",
    "        for ans in answers:\n",
    "            tmp_indexed_answer += a_word_index[ans]\n",
    "        val_answer_index.append(tmp_indexed_answer)\n",
    "    else:\n",
    "        indexed_answer = a_word_index[answer]\n",
    "        val_answer_index.append(indexed_answer)\n",
    "    \n",
    "for answer in test_answer:\n",
    "    if ',' in answer:\n",
    "        answers = answer.split(\",\")\n",
    "        tmp_indexed_answer = np.zeros([len(cqa_word_set)], dtype=np.int8)\n",
    "        for ans in answers:\n",
    "            tmp_indexed_answer += a_word_index[ans]\n",
    "        test_answer_index.append(tmp_indexed_answer)\n",
    "    else:\n",
    "        indexed_answer = a_word_index[answer]\n",
    "        test_answer_index.append(indexed_answer)"
   ]
  },
  {
   "cell_type": "code",
   "execution_count": 18,
   "metadata": {},
   "outputs": [
    {
     "name": "stdout",
     "output_type": "stream",
     "text": [
      "answer encoding is completed!\n"
     ]
    }
   ],
   "source": [
    "if (len(train_answer_index)+ len(val_answer_index) + len(test_answer_index)) == (len(train_answer) + len(test_answer) + len(val_answer)):\n",
    "    print(\"answer encoding is completed!\")\n",
    "else:\n",
    "    print(\"Something is missing! Check again\")"
   ]
  },
  {
   "cell_type": "code",
   "execution_count": 19,
   "metadata": {
    "collapsed": true
   },
   "outputs": [],
   "source": [
    "train_label_index = []\n",
    "val_label_index = []\n",
    "test_label_index = []\n",
    "\n",
    "for label in train_label:\n",
    "    train_label_index.append(np.eye(20)[label])\n",
    "    \n",
    "for label in val_label:\n",
    "    val_label_index.append(np.eye(20)[label])\n",
    "\n",
    "for label in test_label:\n",
    "    test_label_index.append(np.eye(20)[label])"
   ]
  },
  {
   "cell_type": "code",
   "execution_count": 20,
   "metadata": {},
   "outputs": [
    {
     "name": "stdout",
     "output_type": "stream",
     "text": [
      "label encoding is completed!\n"
     ]
    }
   ],
   "source": [
    "if (len(train_label_index)+ len(val_label_index) + len(test_label_index)) == (len(train_label) + len(test_label) + len(val_label)):\n",
    "    print(\"label encoding is completed!\")\n",
    "else:\n",
    "    print(\"Something is missing! Check again\")"
   ]
  },
  {
   "cell_type": "markdown",
   "metadata": {},
   "source": [
    "# preprocessing for easy implementation"
   ]
  },
  {
   "cell_type": "markdown",
   "metadata": {},
   "source": [
    "## Question"
   ]
  },
  {
   "cell_type": "code",
   "execution_count": 21,
   "metadata": {
    "collapsed": true
   },
   "outputs": [],
   "source": [
    "# for q_length = [None, None]\n",
    "train_q_length = []\n",
    "for i in range(len(train_question_index)):\n",
    "    train_q_length.append(len(train_question_index[i]))\n",
    "\n",
    "val_q_length = []\n",
    "for i in range(len(val_question_index)):\n",
    "    val_q_length.append(len(val_question_index[i]))\n",
    "\n",
    "test_q_length = []\n",
    "for i in range(len(test_question_index)):\n",
    "    test_q_length.append(len(test_question_index[i]))"
   ]
  },
  {
   "cell_type": "markdown",
   "metadata": {},
   "source": [
    "### question padding (n >> 12) "
   ]
  },
  {
   "cell_type": "code",
   "execution_count": 22,
   "metadata": {
    "collapsed": true
   },
   "outputs": [],
   "source": [
    "q_max_word = 12"
   ]
  },
  {
   "cell_type": "code",
   "execution_count": 23,
   "metadata": {
    "collapsed": true
   },
   "outputs": [],
   "source": [
    "# add padding\n",
    "question_one_hot = np.zeros([1, len(q_word_set)],  dtype=np.int8)\n",
    "for i in range(len(train_question_index)):\n",
    "    for j in range(q_max_word-len(train_question_index[i])):\n",
    "        train_question_index[i] = np.append(train_question_index[i], question_one_hot, axis=0)\n",
    "        \n",
    "for i in range(len(val_question_index)):\n",
    "    for j in range(q_max_word-len(val_question_index[i])):\n",
    "        val_question_index[i] = np.append(val_question_index[i], question_one_hot, axis=0)\n",
    "\n",
    "for i in range(len(test_question_index)):\n",
    "    for j in range(q_max_word-len(test_question_index[i])):\n",
    "        test_question_index[i] = np.append(test_question_index[i], question_one_hot, axis=0)"
   ]
  },
  {
   "cell_type": "markdown",
   "metadata": {},
   "source": [
    "## Context"
   ]
  },
  {
   "cell_type": "code",
   "execution_count": 24,
   "metadata": {
    "collapsed": true
   },
   "outputs": [],
   "source": [
    "train_c_seq_length = []\n",
    "for i in range(len(train_context_index)):\n",
    "    tmp_list = [] \n",
    "    for j in range(len(train_context_index[i])):\n",
    "        tmp_list.append(len(train_context_index[i][j]))\n",
    "    for k in range(j+1, 20):\n",
    "        tmp_list.append(0)\n",
    "        train_label_index[i] = np.append(train_label_index[i], np.zeros((20,)))\n",
    "    train_c_seq_length.append(np.array(tmp_list))\n",
    "    train_label_index[i] = np.reshape(train_label_index[i], (20,20))\n",
    "    \n",
    "val_c_seq_length = []\n",
    "for i in range(len(val_context_index)):\n",
    "    tmp_list = [] \n",
    "    for j in range(len(val_context_index[i])):\n",
    "        tmp_list.append(len(val_context_index[i][j]))\n",
    "    for k in range(j+1, 20):\n",
    "        tmp_list.append(0)\n",
    "        val_label_index[i]= np.append(val_label_index[i], np.zeros((20,)))\n",
    "    val_c_seq_length.append(np.array(tmp_list))\n",
    "    val_label_index[i] = np.reshape(val_label_index[i], (20,20))\n",
    "    \n",
    "test_c_seq_length = []\n",
    "for i in range(len(test_context_index)):\n",
    "    tmp_list = [] \n",
    "    for j in range(len(test_context_index[i])):\n",
    "        tmp_list.append(len(test_context_index[i][j]))\n",
    "    for k in range(j+1, 20):\n",
    "        tmp_list.append(0)\n",
    "        test_label_index[i] = np.append(test_label_index[i], np.zeros((20,)))\n",
    "    test_c_seq_length.append(np.array(tmp_list))\n",
    "    test_label_index[i] = np.reshape(test_label_index[i], (20,20))"
   ]
  },
  {
   "cell_type": "markdown",
   "metadata": {},
   "source": [
    "### context padding ( n >> 12), ( s >> 20 )"
   ]
  },
  {
   "cell_type": "code",
   "execution_count": 25,
   "metadata": {
    "collapsed": true
   },
   "outputs": [],
   "source": [
    "c_seq_num = 20\n",
    "c_max_word = 12"
   ]
  },
  {
   "cell_type": "code",
   "execution_count": 26,
   "metadata": {
    "collapsed": true
   },
   "outputs": [],
   "source": [
    "train_context_result = np.zeros([len(train_context_index), \n",
    "                                 c_seq_num, \n",
    "                                 c_max_word, \n",
    "                                 len(c_word_set)], dtype=np.int8)\n",
    "\n",
    "for i in range(len(train_context_index)):\n",
    "    for j in range(len(train_context_index[i])):\n",
    "        padding = c_max_word - len(train_context_index[i][j])\n",
    "        if padding != 0 :\n",
    "            train_context_result[i][j] = np.append(train_context_index[i][j],\n",
    "                                                  np.zeros([padding, len(c_word_set)], dtype = np.int8), axis=0)\n",
    "        else :\n",
    "            train_context_result[i][j] = train_context_index[i][j]\n",
    "\n",
    "val_context_result = np.zeros([len(val_context_index), \n",
    "                                 c_seq_num, \n",
    "                                 c_max_word, \n",
    "                                 len(c_word_set)], dtype=np.int8)\n",
    "\n",
    "for i in range(len(val_context_index)):\n",
    "    for j in range(len(val_context_index[i])):\n",
    "        padding = c_max_word - len(val_context_index[i][j])\n",
    "        if padding != 0 :\n",
    "            val_context_result[i][j] = np.append(val_context_index[i][j],\n",
    "                                                  np.zeros([padding, len(c_word_set)], dtype = np.int8), axis=0)\n",
    "        else :\n",
    "            val_context_result[i][j] = val_context_index[i][j]\n",
    "\n",
    "test_context_result = np.zeros([len(test_context_index), \n",
    "                                 c_seq_num, \n",
    "                                 c_max_word, \n",
    "                                 len(c_word_set)], dtype=np.int8)\n",
    "\n",
    "for i in range(len(test_context_index)):\n",
    "    for j in range(len(test_context_index[i])):\n",
    "        padding = c_max_word - len(test_context_index[i][j])\n",
    "        if padding != 0 :\n",
    "            test_context_result[i][j] = np.append(test_context_index[i][j],\n",
    "                                                  np.zeros([padding, len(c_word_set)], dtype = np.int8), axis=0)\n",
    "        else :\n",
    "            test_context_result[i][j] = test_context_index[i][j]\n"
   ]
  },
  {
   "cell_type": "code",
   "execution_count": 27,
   "metadata": {
    "collapsed": true
   },
   "outputs": [],
   "source": [
    "# for i in range(len(train_context_result)):\n",
    "#     train_question_index[i] = lil_matrix(train_question_index[i])\n",
    "#     train_answer_index[i] = lil_matrix(train_answer_index[i])\n",
    "#     for j in range(len(train_context_result[i])):\n",
    "#         train_context_result[i][j] = lil_matrix(train_context_result[i][j])\n",
    "#     train_label_index[i] = lil_matrix(train_label_index[i])\n",
    "\n",
    "# for i in range(len(val_context_result)):\n",
    "#     val_question_index[i] = lil_matrix(val_question_index[i])\n",
    "#     val_answer_index[i] = lil_matrix(val_answer_index[i])\n",
    "#     for j in range(len(val_context_result[i])):\n",
    "#         val_context_result[i][j] = lil_matrix(val_context_result[i][j])\n",
    "#     val_label_index[i] = lil_matrix(val_label_index[i])\n",
    "    \n",
    "# for i in range(len(test_context_result)):\n",
    "#     test_question_index[i] = lil_matrix(test_question_index[i])\n",
    "#     test_answer_index[i] = lil_matrix(test_answer_index[i])\n",
    "#     for j in range(len(test_context_result[i])):\n",
    "#         test_context_result[i][j] = lil_matrix(test_context_result[i][j])\n",
    "#     test_label_index[i] = lil_matrix(test_label_index[i])"
   ]
  },
  {
   "cell_type": "code",
   "execution_count": null,
   "metadata": {
    "collapsed": true
   },
   "outputs": [],
   "source": []
  },
  {
   "cell_type": "code",
   "execution_count": 28,
   "metadata": {
    "collapsed": true
   },
   "outputs": [],
   "source": [
    "train_dataset = (train_question_index, train_answer_index, train_context_result, train_label_index,train_q_length, train_c_seq_length)\n",
    "val_dataset = (val_question_index, val_answer_index, val_context_result, val_label_index, val_q_length, val_c_seq_length)\n",
    "test_dataset = (test_question_index, test_answer_index, test_context_result, test_label_index, test_q_length, test_c_seq_length)"
   ]
  },
  {
   "cell_type": "code",
   "execution_count": 29,
   "metadata": {
    "collapsed": true
   },
   "outputs": [],
   "source": [
    "with open('babi_preprocessed/train_dataset.pkl', 'wb') as f:\n",
    "    pickle.dump(train_dataset, f, protocol = 4)\n",
    "\n",
    "with open('babi_preprocessed/val_dataset.pkl', 'wb') as f:\n",
    "    pickle.dump(val_dataset, f, protocol = 4)\n",
    "    \n",
    "with open('babi_preprocessed/test_dataset.pkl', 'wb') as f:\n",
    "    pickle.dump(test_dataset, f, protocol = 4)"
   ]
  },
  {
   "cell_type": "code",
   "execution_count": null,
   "metadata": {
    "collapsed": true
   },
   "outputs": [],
   "source": []
  }
 ],
 "metadata": {
  "kernelspec": {
   "display_name": "Python 3",
   "language": "python",
   "name": "python3"
  },
  "language_info": {
   "codemirror_mode": {
    "name": "ipython",
    "version": 3
   },
   "file_extension": ".py",
   "mimetype": "text/x-python",
   "name": "python",
   "nbconvert_exporter": "python",
   "pygments_lexer": "ipython3",
   "version": "3.5.0"
  }
 },
 "nbformat": 4,
 "nbformat_minor": 1
}
