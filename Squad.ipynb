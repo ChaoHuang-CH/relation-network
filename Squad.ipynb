{
 "cells": [
  {
   "cell_type": "code",
   "execution_count": null,
   "metadata": {
    "collapsed": true
   },
   "outputs": [],
   "source": [
    "import os\n",
    "import json\n",
    "import numpy as np\n",
    "import pickle\n",
    "import re\n",
    "import string \n",
    "\n",
    "with open(\"dev-v1.1.json\") as f:\n",
    "    test = json.load(f)\n",
    "with open(\"train-v1.1.json\") as f:\n",
    "    train = json.load(f)"
   ]
  },
  {
   "cell_type": "code",
   "execution_count": null,
   "metadata": {
    "collapsed": true
   },
   "outputs": [],
   "source": [
    "def split_into_sentences(text):\n",
    "    sentences = re.split(r'(?<!\\w\\.\\w.)(?<![A-Z]\\.)(?<=\\.|\\?)\\s', text)\n",
    "    return sentences, len(sentences)"
   ]
  },
  {
   "cell_type": "code",
   "execution_count": null,
   "metadata": {
    "collapsed": true
   },
   "outputs": [],
   "source": [
    "def split_clqa(topics):\n",
    "    \"\"\"\n",
    "    for each topic, split into paragraph.\n",
    "    for each paragraph, split context, label, question and answer\n",
    "\n",
    "    Attributes:\n",
    "        topics: list of topic (1 topic has n paragraphs)\n",
    "    \n",
    "    Returns:\n",
    "        context: list of contexts\n",
    "        label: list of labels\n",
    "        question: list of questions\n",
    "        answer: list of answers\n",
    "    \"\"\"\n",
    "    result_context = []\n",
    "    result_label = []\n",
    "    result_question = []\n",
    "    result_answer = []\n",
    "    \n",
    "    table = str.maketrans(\"\",\"\",string.punctuation)\n",
    "    for i in table.keys():\n",
    "        if i != 36:\n",
    "            table[i] = \" \"+chr(i)+\" \"\n",
    "            \n",
    "    for i in range(len(topics)):\n",
    "        paragraphs = topics[i]['paragraphs']\n",
    "        for j in range(len(paragraphs)):\n",
    "            paragraph = paragraphs[j]\n",
    "            \n",
    "            temp_context = paragraph['context']\n",
    "            temp_qas = paragraph['qas']\n",
    "            \n",
    "            # remove '[\\alphabet]'. ex) [i], [k]\n",
    "            temp_context = re.sub('[[][a-zA-Z]+[]]', '', temp_context)\n",
    "#             replace paragraph to sentences with \\n\n",
    "#             temp_context = re.sub('[a-z][.]', '\\n', temp_context)\n",
    "            context, length = split_into_sentences(temp_context)            \n",
    "\n",
    "            for i in range(len(context)):\n",
    "                context[i] = context[i].translate(str.maketrans(table))\n",
    "            label = [i for i in reversed(range(length))] \n",
    "            \n",
    "            for k in range(len(temp_qas)):\n",
    "                temp_qa = temp_qas[k]\n",
    "                \n",
    "                question = temp_qa['question']\n",
    "                temp_answers = temp_qa['answers']\n",
    "                \n",
    "                for l in range(len(temp_answers)):\n",
    "                    answer = temp_answers[l]['text']\n",
    "                    \n",
    "                    result_context.append(context)\n",
    "                    result_label.append(label)\n",
    "                    result_question.append(question)\n",
    "                    result_answer.append(answer)\n",
    "    # check\n",
    "    if (len(result_context) == len(result_label) == len(result_question) == len(result_answer)):\n",
    "        print(\"Data is well prepared!\")\n",
    "        print(\"total: {}\".format(len(result_context)))\n",
    "    else:\n",
    "        print(\"Something is missing! check again\")\n",
    "        print(\"the number of questions: {}\".format(len(result_question)))\n",
    "        print(\"the number of answers: {}\".format(len(result_answer)))\n",
    "        print(\"the number of contexts: {}\".format(len(result_context)))\n",
    "        print(\"the number of labels: {}\".format(len(result_label)))\n",
    "    \n",
    "    \n",
    "    \n",
    "    return result_context, result_label, result_question, result_answer "
   ]
  },
  {
   "cell_type": "code",
   "execution_count": null,
   "metadata": {
    "collapsed": false
   },
   "outputs": [],
   "source": [
    "train_topics = train['data'][:400] # 400\n",
    "val_topics = train['data'][400:] # 42\n",
    "test_topics = test['data'] # 48\n",
    "train_context, train_label, train_question, train_answer = split_clqa(train_topics)\n",
    "val_context, val_label, val_question, val_answer = split_clqa(val_topics)\n",
    "test_context, test_label, test_question, test_answer = split_clqa(test_topics)"
   ]
  },
  {
   "cell_type": "code",
   "execution_count": null,
   "metadata": {
    "collapsed": true
   },
   "outputs": [],
   "source": [
    "del train\n",
    "del test"
   ]
  },
  {
   "cell_type": "code",
   "execution_count": null,
   "metadata": {
    "collapsed": false
   },
   "outputs": [],
   "source": [
    "# conver to index\n",
    "# word set\n",
    "cq_word_set = set()\n",
    "list_of_context = [train_context, val_context, test_context]\n",
    "list_of_question = [train_question, val_question, test_question]\n",
    "\n",
    "for list_ in list_of_context:\n",
    "    for para in list_:\n",
    "        for sent in para:\n",
    "            sent = sent.split()\n",
    "            sent = list(map(str.lower, sent))\n",
    "            cq_word_set.update(sent)\n",
    "            \n",
    "for list_ in list_of_question:\n",
    "    for sent in list_:\n",
    "        sent = sent.split()\n",
    "        sent = list(map(str.lower, sent))\n",
    "        cq_word_set.update(sent)"
   ]
  },
  {
   "cell_type": "code",
   "execution_count": null,
   "metadata": {
    "collapsed": true
   },
   "outputs": [],
   "source": [
    "answer_word_set = set()\n",
    "list_of_answer = [train_answer, val_answer, test_answer]\n",
    "for answers in list_of_answer:\n",
    "    for answer in answers:\n",
    "            answer_word_set.add(answer)"
   ]
  },
  {
   "cell_type": "code",
   "execution_count": null,
   "metadata": {
    "collapsed": false
   },
   "outputs": [],
   "source": [
    "print(\"context and question words: {}\".format(len(cq_word_set)))\n",
    "print(\"answer words: {}\".format(len(answer_word_set)))"
   ]
  },
  {
   "cell_type": "code",
   "execution_count": null,
   "metadata": {
    "collapsed": true
   },
   "outputs": [],
   "source": [
    "del train_topics\n",
    "del val_topics\n",
    "del test_topics"
   ]
  },
  {
   "cell_type": "code",
   "execution_count": null,
   "metadata": {
    "collapsed": true
   },
   "outputs": [],
   "source": [
    "cq_word_index = {}\n",
    "for i, word in enumerate(cq_word_set):\n",
    "    cq_word_index[word] = i\n",
    "\n",
    "answer_word_index = {}\n",
    "for i, word in enumerate(answer_word_set):\n",
    "    answer_one_hot = np.zeros([len(answer_word_set)])\n",
    "    answer_one_hot[i] = 1\n",
    "    answer_word_index[word] = answer_one_hot"
   ]
  },
  {
   "cell_type": "code",
   "execution_count": null,
   "metadata": {
    "collapsed": true
   },
   "outputs": [],
   "source": [
    "train_context_index = []\n",
    "val_context_index = []\n",
    "test_context_index = []\n",
    "\n",
    "for para in train_context:\n",
    "    indexed_para = []\n",
    "    for sent in para:\n",
    "        sent = sent.split()\n",
    "        sent = list(map(str.lower, sent))\n",
    "        indexed_sent = []\n",
    "        for word in sent:\n",
    "            indexed_sent.append(cq_word_index[word])\n",
    "        indexed_para.append(indexed_sent)\n",
    "    train_context_index.append(np.array(indexed_para))\n",
    "    \n",
    "for para in val_context:\n",
    "    indexed_para = []\n",
    "    for sent in para:\n",
    "        sent = sent.split()\n",
    "        sent = list(map(str.lower, sent))\n",
    "        indexed_sent = []\n",
    "        for word in sent:\n",
    "            indexed_sent.append(cq_word_index[word])\n",
    "        indexed_para.append(indexed_sent)\n",
    "    val_context_index.append(np.array(indexed_para))\n",
    "    \n",
    "for para in test_context:\n",
    "    indexed_para = []\n",
    "    for sent in para:\n",
    "        sent = sent.split()\n",
    "        sent = list(map(str.lower, sent))\n",
    "        indexed_sent = []\n",
    "        for word in sent:\n",
    "            indexed_sent.append(cq_word_index[word])\n",
    "        indexed_para.append(indexed_sent)\n",
    "    test_context_index.append(np.array(indexed_para))"
   ]
  },
  {
   "cell_type": "code",
   "execution_count": null,
   "metadata": {
    "collapsed": true
   },
   "outputs": [],
   "source": [
    "if (len(train_context_index) + len(val_context_index) + len(test_context_index)) == (len(train_context) + len(test_context) + len(val_context)):\n",
    "    print(\"context encoding is completed!\")\n",
    "else:\n",
    "    print(\"Something is missed! Check again\")"
   ]
  },
  {
   "cell_type": "code",
   "execution_count": null,
   "metadata": {
    "collapsed": false
   },
   "outputs": [],
   "source": [
    "train_question_index = []\n",
    "val_question_index = []\n",
    "test_question_index = []\n",
    "\n",
    "for sent in train_question:\n",
    "    sent = sent.split()\n",
    "    sent = list(map(str.lower, sent))    \n",
    "    indexed_sent = []\n",
    "    for word in sent:\n",
    "        indexed_sent.append(cq_word_index[word])\n",
    "    train_question_index.append(np.array(indexed_sent))\n",
    "    \n",
    "for sent in val_question:\n",
    "    sent = sent.split()\n",
    "    sent = list(map(str.lower, sent))\n",
    "    indexed_sent = []\n",
    "    for word in sent:\n",
    "        indexed_sent.append(cq_word_index[word])\n",
    "    val_question_index.append(np.array(indexed_sent))\n",
    "    \n",
    "for sent in test_question:\n",
    "    sent = sent.split()\n",
    "    sent = list(map(str.lower, sent))\n",
    "    indexed_sent = []\n",
    "    for word in sent:\n",
    "        indexed_sent.append(cq_word_index[word])\n",
    "    test_question_index.append(np.array(indexed_sent))"
   ]
  },
  {
   "cell_type": "code",
   "execution_count": null,
   "metadata": {
    "collapsed": true
   },
   "outputs": [],
   "source": [
    "if (len(train_question_index) + len(val_question_index) + len(test_question_index)) == (len(train_question) + len(test_question) + len(val_question)):\n",
    "    print(\"question encoding is completed!\")\n",
    "else:\n",
    "    print(\"Something is missed! Check again\")"
   ]
  },
  {
   "cell_type": "code",
   "execution_count": null,
   "metadata": {
    "collapsed": true
   },
   "outputs": [],
   "source": [
    "train_answer_index = []\n",
    "val_answer_index = []\n",
    "test_answer_index = []\n",
    "\n",
    "for answer in train_answer:\n",
    "    indexed_answer = answer_word_index[answer]\n",
    "    train_answer_index.append(indexed_answer)\n",
    "    \n",
    "for answer in val_answer:\n",
    "    indexed_answer = answer_word_index[answer]\n",
    "    val_answer_index.append(indexed_answer)\n",
    "    \n",
    "for answer in test_answer:\n",
    "    indexed_answer = answer_word_index[answer]\n",
    "    test_answer_index.append(indexed_answer)"
   ]
  },
  {
   "cell_type": "code",
   "execution_count": null,
   "metadata": {
    "collapsed": true
   },
   "outputs": [],
   "source": [
    "if (len(train_answer_index)+ len(val_answer_index) + len(test_answer_index)) == (len(train_answer) + len(test_answer) + len(val_answer)):\n",
    "    print(\"answer encoding is completed!\")\n",
    "else:\n",
    "    print(\"Something is missed! Check again\")"
   ]
  },
  {
   "cell_type": "code",
   "execution_count": null,
   "metadata": {
    "collapsed": true
   },
   "outputs": [],
   "source": [
    "train_label_index = []\n",
    "val_label_index = []\n",
    "test_label_index = []\n",
    "\n",
    "for label in train_label:\n",
    "    train_label_index.append(np.eye(20)[label])\n",
    "    \n",
    "for label in val_label:\n",
    "    val_label_index.append(np.eye(20)[label])\n",
    "\n",
    "for label in test_label:\n",
    "    test_label_index.append(np.eye(20)[label])"
   ]
  },
  {
   "cell_type": "code",
   "execution_count": null,
   "metadata": {
    "collapsed": true
   },
   "outputs": [],
   "source": [
    "if (len(train_label_index)+ len(val_label_index) + len(test_label_index)) == (len(train_label) + len(test_label) + len(val_label)):\n",
    "    print(\"label encoding is completed!\")\n",
    "else:\n",
    "    print(\"Something is missed! Check again\")"
   ]
  },
  {
   "cell_type": "code",
   "execution_count": null,
   "metadata": {
    "collapsed": true
   },
   "outputs": [],
   "source": [
    "train_dataset = (train_question_index, train_answer_index, train_context_index, train_label_index)\n",
    "val_dataset = (val_question_index, val_answer_index, val_context_index, val_label_index)\n",
    "test_dataset = (test_question_index, test_answer_index, test_context_index, test_label_index)"
   ]
  },
  {
   "cell_type": "code",
   "execution_count": null,
   "metadata": {
    "collapsed": true
   },
   "outputs": [],
   "source": [
    "with open('babi_preprocessd/train_dataset.pkl', 'wb') as f:\n",
    "    pickle.dump(train_dataset, f)\n",
    "\n",
    "with open('babi_preprocessd/val_dataset.pkl', 'wb') as f:\n",
    "    pickle.dump(val_dataset, f)\n",
    "    \n",
    "with open('babi_preprocessd/test_dataset.pkl', 'wb') as f:\n",
    "    pickle.dump(test_dataset, f)"
   ]
  }
 ],
 "metadata": {
  "anaconda-cloud": {},
  "kernelspec": {
   "display_name": "Python [conda root]",
   "language": "python",
   "name": "conda-root-py"
  },
  "language_info": {
   "codemirror_mode": {
    "name": "ipython",
    "version": 3
   },
   "file_extension": ".py",
   "mimetype": "text/x-python",
   "name": "python",
   "nbconvert_exporter": "python",
   "pygments_lexer": "ipython3",
   "version": "3.5.2"
  }
 },
 "nbformat": 4,
 "nbformat_minor": 1
}
