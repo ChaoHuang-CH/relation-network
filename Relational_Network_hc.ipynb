{
 "cells": [
  {
   "cell_type": "markdown",
   "metadata": {},
   "source": [
    "RN _G 효윻화  \n",
    "label"
   ]
  },
  {
   "cell_type": "code",
   "execution_count": 1,
   "metadata": {
    "collapsed": true
   },
   "outputs": [],
   "source": [
    "import pandas as pd\n",
    "import tensorflow as tf\n",
    "import itertools\n",
    "import numpy as np\n",
    "from tqdm import tqdm\n",
    "# import helpers\n",
    "import warnings\n",
    "import pickle\n",
    "import random\n",
    "import os\n",
    "from tensorflow.contrib import slim\n",
    "from tensorflow.contrib import rnn  #import LSTMCell, LSTMStateTupleTuple\n",
    "warnings.filterwarnings('ignore')"
   ]
  },
  {
   "cell_type": "code",
   "execution_count": 2,
   "metadata": {
    "collapsed": true
   },
   "outputs": [],
   "source": [
    "with open('babi_preprocessed/train_dataset.pkl', 'rb') as f:\n",
    "    train = pickle.load(f)\n",
    "\n",
    "with open('babi_preprocessed/test_dataset.pkl', 'rb') as f:\n",
    "    test = pickle.load(f)\n",
    "    \n",
    "# train = (Question, Answer, Context, Labels, Q_length, C_seq_length)\n",
    "\n",
    "# max_ = 0\n",
    "# for i in train[2]:\n",
    "#     for j in i:\n",
    "#         if len(j) > max_:\n",
    "#             max_ = len(i)\n",
    "# print(max_)"
   ]
  },
  {
   "cell_type": "code",
   "execution_count": 3,
   "metadata": {
    "collapsed": true
   },
   "outputs": [],
   "source": [
    "n_hidden = 32\n",
    "n_classes = 159\n",
    "\n",
    "q_vocab = 88\n",
    "q_max_word = 12\n",
    "\n",
    "c_vocal = 124\n",
    "c_seq_num = 20\n",
    "c_max_word = 12\n",
    "\n",
    "batch_size = 64\n",
    "\n",
    "question = tf.placeholder(tf.float32, [batch_size, q_max_word ,q_vocab]) # [batch_size, num_word, one_hot dim] \n",
    "q_length= tf.placeholder(tf.int32, [batch_size])\n",
    "\n",
    "context = tf.placeholder(tf.float32, [batch_size, c_seq_num, c_max_word, c_vocal]) \n",
    "                                                #  [batch_size, num_support_sentence, num_word, one_hot dim]\n",
    "c_seq_length = tf.placeholder(tf.int32, [batch_size,c_seq_num])\n",
    "# c_num_seq = tf.placeholder(tf.int32, [None])\n",
    "\n",
    "label = tf.placeholder(tf.int32, [batch_size,c_seq_num, c_seq_num])\n",
    "\n",
    "answer = tf.placeholder(tf.int32, [batch_size, n_classes])"
   ]
  },
  {
   "cell_type": "code",
   "execution_count": 4,
   "metadata": {
    "collapsed": true
   },
   "outputs": [],
   "source": [
    "def question_LSTM(q, seqlen):\n",
    "    q = tf.unstack(q, q_max_word,1)\n",
    "    lstm_cell = rnn.LSTMCell(n_hidden)\n",
    "    outputs, states = rnn.static_rnn(lstm_cell, q, dtype = tf.float32, sequence_length=seqlen)\n",
    "    \n",
    "    # change dimension to [batch_size, n_step, n_input]\n",
    "    outputs = tf.stack(outputs)\n",
    "    outputs = tf.transpose(outputs, [1,0,2])\n",
    "    \n",
    "#     # 색인생성을 위함, 나중에 label의 순서정보로 바꿔야하나?\n",
    "#     # aymericdamien\n",
    "    batchsize = tf.shape(outputs)[0]\n",
    "    index = tf.range(0, batchsize) * q_max_word + (seqlen -1)\n",
    "    outputs = tf.gather(tf.reshape(outputs, [-1, n_hidden]), index)\n",
    "    return outputs"
   ]
  },
  {
   "cell_type": "code",
   "execution_count": 5,
   "metadata": {
    "collapsed": true
   },
   "outputs": [],
   "source": [
    "def context_LSTM_helper(q, seqlen, reuse):\n",
    "    with tf.variable_scope(\"cLSTM_helper\", reuse=reuse) as scope:\n",
    "        q = tf.unstack(q, c_max_word,1)\n",
    "        lstm_cell = rnn.LSTMCell(n_hidden)\n",
    "        outputs, states = rnn.static_rnn(lstm_cell, q, dtype = tf.float32, sequence_length=seqlen)\n",
    "\n",
    "        # change dimension to [batch_size, n_step, n_input]\n",
    "        outputs = tf.stack(outputs)\n",
    "        outputs = tf.transpose(outputs, [1,0,2])\n",
    "\n",
    "        batchsize = tf.shape(outputs)[0]\n",
    "        index = tf.range(0, batchsize) * c_max_word + (seqlen -1)\n",
    "        outputs = tf.gather(tf.reshape(outputs, [-1, n_hidden]), index)\n",
    "        return outputs    \n",
    "\n",
    "def context_LSTM(c, c_seqlen):\n",
    "    result = []\n",
    "    reuse = False\n",
    "    for i in range(batch_size):\n",
    "        sentences, sent_lengths = c[i], c_seqlen[i]\n",
    "        tmp_out = context_LSTM_helper(sentences, sent_lengths,reuse)\n",
    "        \n",
    "        if not reuse:\n",
    "            reuse = True\n",
    "        \n",
    "        result.append(tmp_out)\n",
    "    return tf.stack(result)"
   ]
  },
  {
   "cell_type": "code",
   "execution_count": 6,
   "metadata": {
    "collapsed": true
   },
   "outputs": [],
   "source": [
    "def combination_helper(objects):\n",
    "    list_ = []\n",
    "    for i in range(c_seq_num):\n",
    "        list_.append(objects[i])\n",
    "    return itertools.combinations(list_,2)\n",
    "\n",
    "def combination(set_objects, questions, batch_size = batch_size):\n",
    "    result = []\n",
    "    for i in range(batch_size):\n",
    "        for (object_i, object_j) in combination_helper(set_objects[i]):\n",
    "            result.append(tf.concat([object_i, object_j, questions[i]], axis = 0))\n",
    "    return tf.stack(result)"
   ]
  },
  {
   "cell_type": "code",
   "execution_count": 7,
   "metadata": {
    "collapsed": true
   },
   "outputs": [],
   "source": [
    "def RN_g(concat, scope = \"g_theta\"):\n",
    "    # make object pair with question using tf.concat\n",
    "#     opwq = tf.reshape(tf.concat([object_i, object_j, question], axis = 0), [1,-1])\n",
    "    net = slim.fully_connected(concat, 256 ) #reuse=reuse,  scope=\"g_1\")\n",
    "    net = slim.fully_connected(net, 256) #, scope=\"g_2\")\n",
    "    net = slim.fully_connected(net, 256) #, scope=\"g_3\")\n",
    "    net = slim.fully_connected(net, 256) #, scope=\"g_4\")\n",
    "    return net"
   ]
  },
  {
   "cell_type": "code",
   "execution_count": 8,
   "metadata": {
    "collapsed": true
   },
   "outputs": [],
   "source": [
    "def RN_f(element_sum, scope= \"f_phi\"):\n",
    "    net = slim.fully_connected(element_sum, 256, scope=\"f_1\")\n",
    "    net = slim.fully_connected(net, 512, scope=\"f_2\")\n",
    "    net = slim.fully_connected(net, 159, scope=\"f_3\")\n",
    "    return net"
   ]
  },
  {
   "cell_type": "code",
   "execution_count": 9,
   "metadata": {
    "collapsed": true
   },
   "outputs": [],
   "source": [
    "def batch_load(data, batch_size):\n",
    "    # data = (Question, Answer, Context, Labels, Q_length, C_seq_length)\n",
    "    randix = np.random.randint(len(data[0]), size = batch_size)\n",
    "    batch_q = np.array(data[0])[randix]\n",
    "    batch_a = np.array(data[1])[randix]\n",
    "    batch_c = data[2][randix]\n",
    "    batch_l = np.array(data[3])[randix]\n",
    "    batch_ql = np.array(data[4])[randix]\n",
    "    batch_cl = np.array(data[5])[randix]\n",
    "    return batch_q, batch_a, batch_c, batch_l, batch_ql, batch_cl"
   ]
  },
  {
   "cell_type": "markdown",
   "metadata": {},
   "source": [
    "# label에 따른 순서 지정  \n",
    "# context의 문장을 무조건 20개 사용(비효율적)->개선 할 수 있는 구현방법 "
   ]
  },
  {
   "cell_type": "code",
   "execution_count": 10,
   "metadata": {
    "collapsed": true
   },
   "outputs": [],
   "source": [
    "import time"
   ]
  },
  {
   "cell_type": "code",
   "execution_count": 11,
   "metadata": {
    "collapsed": true,
    "scrolled": true
   },
   "outputs": [],
   "source": [
    "t1 = time.time()\n",
    "\n",
    "objects_units = context_LSTM(context, c_seq_length)\n",
    "q_unit = question_LSTM(question, q_length)\n",
    "\n",
    "MLP_g = RN_g(combination(objects_units, q_unit))\n",
    "\n",
    "merged = []\n",
    "for i in range(batch_size):\n",
    "    merged.append(tf.reduce_sum(MLP_g[i*batch_size:(i+1)*batch_size],axis=0))\n",
    "merged = tf.stack(merged)\n",
    "\n",
    "out = RN_f(merged)\n",
    "\n",
    "t2 = time.time()"
   ]
  },
  {
   "cell_type": "code",
   "execution_count": 12,
   "metadata": {},
   "outputs": [
    {
     "name": "stdout",
     "output_type": "stream",
     "text": [
      "86.97003149986267\n"
     ]
    }
   ],
   "source": [
    "print(t2-t1)"
   ]
  },
  {
   "cell_type": "code",
   "execution_count": 13,
   "metadata": {},
   "outputs": [],
   "source": [
    "t3 = time.time()\n",
    "\n",
    "cost = tf.reduce_mean(tf.nn.softmax_cross_entropy_with_logits(logits = out, labels = answer ))\n",
    "optimizer = tf.train.AdamOptimizer(learning_rate=0.0002).minimize(cost)\n",
    "correct_pred = tf.equal(tf.argmax(out,1), tf.argmax(answer,1))\n",
    "accuracy = tf.reduce_mean(tf.cast(correct_pred, tf.float32))\n",
    "\n",
    "t4 = time.time()"
   ]
  },
  {
   "cell_type": "code",
   "execution_count": 14,
   "metadata": {},
   "outputs": [
    {
     "name": "stdout",
     "output_type": "stream",
     "text": [
      "222.3263988494873\n"
     ]
    }
   ],
   "source": [
    "print(t4-t3)"
   ]
  },
  {
   "cell_type": "markdown",
   "metadata": {},
   "source": [
    "뭐지 이거.. 왜 이따위로... loss구하는데 4분이나 걸리네.. 뭘까요이건.."
   ]
  },
  {
   "cell_type": "markdown",
   "metadata": {},
   "source": [
    "# training session"
   ]
  },
  {
   "cell_type": "code",
   "execution_count": 15,
   "metadata": {},
   "outputs": [
    {
     "name": "stdout",
     "output_type": "stream",
     "text": [
      "step 100, training accuracy 0.203125\n",
      "step 200, training accuracy 0.109375\n",
      "step 300, training accuracy 0.140625\n",
      "step 400, training accuracy 0.125\n",
      "step 500, training accuracy 0.140625\n",
      "step 600, training accuracy 0.171875\n",
      "step 700, training accuracy 0.09375\n",
      "step 800, training accuracy 0.125\n",
      "step 900, training accuracy 0.140625\n",
      "step 1000, training accuracy 0.125\n",
      "step 1100, training accuracy 0.0625\n",
      "step 1200, training accuracy 0.109375\n",
      "step 1300, training accuracy 0.171875\n",
      "step 1400, training accuracy 0.15625\n",
      "step 1500, training accuracy 0.140625\n",
      "step 1600, training accuracy 0.15625\n",
      "step 1700, training accuracy 0.0625\n",
      "step 1800, training accuracy 0.09375\n",
      "step 1900, training accuracy 0.078125\n",
      "step 2000, training accuracy 0.109375\n",
      "step 2100, training accuracy 0.0625\n",
      "step 2200, training accuracy 0.171875\n",
      "step 2300, training accuracy 0.09375\n",
      "step 2400, training accuracy 0.140625\n",
      "step 2500, training accuracy 0.078125\n",
      "step 2600, training accuracy 0.09375\n",
      "step 2700, training accuracy 0.203125\n",
      "step 2800, training accuracy 0.109375\n",
      "step 2900, training accuracy 0.203125\n",
      "step 3000, training accuracy 0.109375\n",
      "step 3100, training accuracy 0.171875\n",
      "step 3200, training accuracy 0.15625\n",
      "step 3300, training accuracy 0.125\n",
      "step 3400, training accuracy 0.140625\n",
      "step 3500, training accuracy 0.078125\n",
      "step 3600, training accuracy 0.140625\n",
      "step 3700, training accuracy 0.109375\n",
      "step 3800, training accuracy 0.125\n",
      "step 3900, training accuracy 0.171875\n",
      "step 4000, training accuracy 0.140625\n",
      "step 4100, training accuracy 0.125\n",
      "step 4200, training accuracy 0.09375\n",
      "step 4300, training accuracy 0.0625\n",
      "step 4400, training accuracy 0.046875\n",
      "step 4500, training accuracy 0.09375\n",
      "step 4600, training accuracy 0.125\n",
      "step 4700, training accuracy 0.09375\n",
      "step 4800, training accuracy 0.140625\n",
      "step 4900, training accuracy 0.15625\n",
      "step 5000, training accuracy 0.125\n",
      "step 5100, training accuracy 0.125\n",
      "step 5200, training accuracy 0.125\n",
      "step 5300, training accuracy 0.125\n",
      "step 5400, training accuracy 0.0625\n",
      "step 5500, training accuracy 0.140625\n",
      "step 5600, training accuracy 0.078125\n",
      "step 5700, training accuracy 0.078125\n",
      "step 5800, training accuracy 0.171875\n",
      "step 5900, training accuracy 0.09375\n",
      "step 6000, training accuracy 0.171875\n",
      "step 6100, training accuracy 0.21875\n",
      "step 6200, training accuracy 0.09375\n",
      "step 6300, training accuracy 0.234375\n",
      "step 6400, training accuracy 0.125\n",
      "step 6500, training accuracy 0.171875\n",
      "step 6600, training accuracy 0.078125\n",
      "step 6700, training accuracy 0.109375\n",
      "step 6800, training accuracy 0.109375\n",
      "step 6900, training accuracy 0.171875\n",
      "step 7000, training accuracy 0.09375\n",
      "step 7100, training accuracy 0.125\n",
      "step 7200, training accuracy 0.15625\n",
      "step 7300, training accuracy 0.1875\n",
      "step 7400, training accuracy 0.140625\n",
      "step 7500, training accuracy 0.125\n",
      "step 7600, training accuracy 0.15625\n",
      "step 7700, training accuracy 0.109375\n",
      "step 7800, training accuracy 0.171875\n",
      "step 7900, training accuracy 0.109375\n",
      "step 8000, training accuracy 0.171875\n",
      "step 8100, training accuracy 0.0625\n",
      "step 8200, training accuracy 0.0625\n",
      "step 8300, training accuracy 0.078125\n",
      "step 8400, training accuracy 0.15625\n",
      "step 8500, training accuracy 0.046875\n",
      "step 8600, training accuracy 0.09375\n",
      "step 8700, training accuracy 0.125\n",
      "step 8800, training accuracy 0.125\n",
      "step 8900, training accuracy 0.09375\n",
      "step 9000, training accuracy 0.140625\n",
      "step 9100, training accuracy 0.109375\n",
      "step 9200, training accuracy 0.125\n",
      "step 9300, training accuracy 0.125\n",
      "step 9400, training accuracy 0.078125\n",
      "step 9500, training accuracy 0.046875\n",
      "step 9600, training accuracy 0.15625\n",
      "step 9700, training accuracy 0.109375\n",
      "step 9800, training accuracy 0.109375\n",
      "step 9900, training accuracy 0.140625\n",
      "step 10000, training accuracy 0.109375\n",
      "learning finished!\n",
      "test accuracy 0.09375\n"
     ]
    }
   ],
   "source": [
    "gpu_options = tf.GPUOptions(allow_growth=True, per_process_gpu_memory_fraction=0.1)\n",
    "config = tf.ConfigProto(log_device_placement=True, allow_soft_placement=True,gpu_options=gpu_options)\n",
    "\n",
    "if not os.path.exists('model/'):\n",
    "    os.makedirs('model/')\n",
    "\n",
    "with tf.Session(config= config) as sess:\n",
    "    sess.run(tf.global_variables_initializer())\n",
    "    \n",
    "    saver = tf.train.Saver(max_to_keep=4)\n",
    "    \n",
    "    for i in range(1,10001):\n",
    "        batch_q, batch_a, batch_c, batch_l, batch_ql, batch_cl = batch_load(train, batch_size)\n",
    "        if i % 100 == 0:\n",
    "            train_accuracy = accuracy.eval(feed_dict = {question: batch_q, q_length: batch_ql, context: batch_c, c_seq_length: batch_cl, answer : batch_a})\n",
    "            print('step %d, training accuracy %g' % (i, train_accuracy))\n",
    "        optimizer.run(feed_dict = {question: batch_q, q_length: batch_ql, context: batch_c, c_seq_length: batch_cl, answer : batch_a})\n",
    "        \n",
    "        if i % 2500 == 0:\n",
    "            saver.save(sess, save_path = 'model/rn', global_step = i)\n",
    "        \n",
    "    print(\"learning finished!\")\n",
    "    batch_q, batch_a, batch_c, batch_l, batch_ql, batch_cl = batch_load(test, batch_size)\n",
    "    print('test accuracy %g' % accuracy.eval(feed_dict = {question: batch_q, q_length: batch_ql, context: batch_c, c_seq_length: batch_cl, answer : batch_a}))"
   ]
  },
  {
   "cell_type": "code",
   "execution_count": null,
   "metadata": {
    "collapsed": true
   },
   "outputs": [],
   "source": []
  },
  {
   "cell_type": "markdown",
   "metadata": {},
   "source": [
    "# model load"
   ]
  },
  {
   "cell_type": "code",
   "execution_count": null,
   "metadata": {
    "collapsed": true
   },
   "outputs": [],
   "source": [
    "with tf.Session(config=config) as sess:\n",
    "    saver = tf.train.Saver()\n",
    "    saver.restore(sess, 'model/fc-1')\n",
    "    # training cycle\n",
    "    for epoch in range(3):\n",
    "        avg_loss = 0.\n",
    "        n_iters_per_epoch = int(mnist.train.num_examples / batch_size)\n",
    "        # loop over all batches\n",
    "        for i in range(n_iters_per_epoch):\n",
    "            x_batch, y_batch = mnist.train.next_batch(batch_size)\n",
    "            # run optimization op (backprop) and loss op (to get loss value)\n",
    "            _, c = sess.run([optimizer, loss], feed_dict={x: x_batch, y: y_batch})\n",
    "            # compute average loss\n",
    "            avg_loss += c / n_iters_per_epoch\n",
    "        print \"Epoch %d, Loss: %.3f\"% (epoch+1, avg_loss)\n",
    "        if epoch % save_every == 0:\n",
    "            saver.save(sess, save_path='model/fc', global_step=epoch+1)\n",
    "            \n",
    "    print \"Finished training!\"\n",
    "    print \"\\nTest accuracy:\", sess.run(accuracy, {x: mnist.test.images, y: mnist.test.labels})"
   ]
  }
 ],
 "metadata": {
  "kernelspec": {
   "display_name": "Python 3",
   "language": "python",
   "name": "python3"
  },
  "language_info": {
   "codemirror_mode": {
    "name": "ipython",
    "version": 3
   },
   "file_extension": ".py",
   "mimetype": "text/x-python",
   "name": "python",
   "nbconvert_exporter": "python",
   "pygments_lexer": "ipython3",
   "version": "3.5.0"
  }
 },
 "nbformat": 4,
 "nbformat_minor": 2
}
