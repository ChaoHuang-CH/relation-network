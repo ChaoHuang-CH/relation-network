{
 "cells": [
  {
   "cell_type": "code",
   "execution_count": null,
   "metadata": {
    "collapsed": true
   },
   "outputs": [],
   "source": [
    "batch\n",
    "rn _G 효윻화\n"
   ]
  },
  {
   "cell_type": "code",
   "execution_count": 1,
   "metadata": {
    "collapsed": true
   },
   "outputs": [],
   "source": [
    "import pandas as pd\n",
    "import tensorflow as tf\n",
    "import itertools\n",
    "import numpy as np\n",
    "from tqdm import tqdm\n",
    "# import helpers\n",
    "import warnings\n",
    "import pickle\n",
    "import random\n",
    "from tensorflow.contrib import slim\n",
    "from tensorflow.contrib import rnn  #import LSTMCell, LSTMStateTupleTuple\n",
    "warnings.filterwarnings('ignore')"
   ]
  },
  {
   "cell_type": "code",
   "execution_count": 2,
   "metadata": {
    "collapsed": true
   },
   "outputs": [],
   "source": [
    "with open('babi_preprocessed/val_dataset.pkl', 'rb') as f:\n",
    "    train = pickle.load(f)\n",
    "\n",
    "with open('babi_preprocessed/test_dataset.pkl', 'rb') as f:\n",
    "    test = pickle.load(f)\n",
    "    \n",
    "# train = (Question, Answer, Context, Labels, Q_length, C_seq_length)\n",
    "\n",
    "# max_ = 0\n",
    "# for i in train[2]:\n",
    "#     for j in i:\n",
    "#         if len(j) > max_:\n",
    "#             max_ = len(i)\n",
    "# print(max_)"
   ]
  },
  {
   "cell_type": "code",
   "execution_count": 3,
   "metadata": {
    "collapsed": true
   },
   "outputs": [],
   "source": [
    "n_hidden = 32\n",
    "n_classes = 159\n",
    "\n",
    "q_vocab = 88\n",
    "q_max_word = 12\n",
    "\n",
    "c_vocal = 124\n",
    "c_seq_num = 20\n",
    "c_max_word = 12\n",
    "\n",
    "batch_size = 16\n",
    "\n",
    "question = tf.placeholder(tf.float32, [None, q_max_word ,q_vocab]) # [batch_size, num_word, one_hot dim] \n",
    "q_length= tf.placeholder(tf.int32, [None])\n",
    "\n",
    "context = tf.placeholder(tf.float32, [None, c_seq_num, c_max_word, c_vocal]) \n",
    "                                                #  [batch_size, num_support_sentence, num_word, one_hot dim]\n",
    "c_seq_length = tf.placeholder(tf.int32, [None,c_seq_num])\n",
    "# c_num_seq = tf.placeholder(tf.int32, [None])\n",
    "\n",
    "label = tf.placeholder(tf.int32, [None,c_seq_num, c_seq_num])\n",
    "\n",
    "answer = tf.placeholder(tf.int32, [None, n_classes])"
   ]
  },
  {
   "cell_type": "code",
   "execution_count": 4,
   "metadata": {
    "collapsed": true
   },
   "outputs": [],
   "source": [
    "def question_LSTM(q, seqlen):\n",
    "    q = tf.unstack(q, q_max_word,1)\n",
    "    lstm_cell = rnn.LSTMCell(n_hidden)\n",
    "    outputs, states = rnn.static_rnn(lstm_cell, q, dtype = tf.float32, sequence_length=seqlen)\n",
    "    \n",
    "    # change dimension to [batch_size, n_step, n_input]\n",
    "    outputs = tf.stack(outputs)\n",
    "    outputs = tf.transpose(outputs, [1,0,2])\n",
    "    \n",
    "#     # 색인생성을 위함, 나중에 label의 순서정보로 바꿔야하나?\n",
    "#     # aymericdamien\n",
    "    batchsize = tf.shape(outputs)[0]\n",
    "    index = tf.range(0, batchsize) * q_max_word + (seqlen -1)\n",
    "    outputs = tf.gather(tf.reshape(outputs, [-1, n_hidden]), index)\n",
    "    return outputs"
   ]
  },
  {
   "cell_type": "code",
   "execution_count": 5,
   "metadata": {
    "collapsed": true
   },
   "outputs": [],
   "source": [
    "def context_LSTM_helper(q, seqlen, reuse):\n",
    "    with tf.variable_scope(\"cLSTM_helper\", reuse=reuse) as scope:\n",
    "        q = tf.unstack(q, c_max_word,1)\n",
    "        lstm_cell = rnn.LSTMCell(n_hidden)\n",
    "        outputs, states = rnn.static_rnn(lstm_cell, q, dtype = tf.float32, sequence_length=seqlen)\n",
    "\n",
    "        # change dimension to [batch_size, n_step, n_input]\n",
    "        outputs = tf.stack(outputs)\n",
    "        outputs = tf.transpose(outputs, [1,0,2])\n",
    "\n",
    "        batchsize = tf.shape(outputs)[0]\n",
    "        index = tf.range(0, batchsize) * c_max_word + (seqlen -1)\n",
    "        outputs = tf.gather(tf.reshape(outputs, [-1, n_hidden]), index)\n",
    "        return outputs    \n",
    "\n",
    "def context_LSTM(c, c_seqlen):\n",
    "    result = []\n",
    "    reuse = False\n",
    "    for i in range(batch_size):\n",
    "        sentences, sent_lengths = c[i], c_seqlen[i]\n",
    "        tmp_out = context_LSTM_helper(sentences, sent_lengths,reuse)\n",
    "        \n",
    "        if not reuse:\n",
    "            reuse = True\n",
    "        \n",
    "        result.append(tmp_out)\n",
    "    return tf.stack(result)"
   ]
  },
  {
   "cell_type": "code",
   "execution_count": 6,
   "metadata": {
    "collapsed": true
   },
   "outputs": [],
   "source": [
    "def RN_g(object_i, object_j, question, reuse):\n",
    "    # make object pair with question using tf.concat\n",
    "    with tf.variable_scope('RN_g', reuse=reuse) as scope:\n",
    "        opwq = tf.reshape(tf.concat([object_i, object_j, question], axis = 0), [1,-1])\n",
    "        net = slim.fully_connected(opwq, 256 ) #reuse=reuse,  scope=\"g_1\")\n",
    "    #     net = slim.fully_connected(net, 256, reuse=reuse, scope=\"g_2\")\n",
    "    #     net = slim.fully_connected(net, 256, reuse=reuse, scope=\"g_3\")\n",
    "    #     net = slim.fully_connected(net, 256, reuse=reuse, scope=\"g_4\")\n",
    "        return net"
   ]
  },
  {
   "cell_type": "code",
   "execution_count": 7,
   "metadata": {
    "collapsed": true
   },
   "outputs": [],
   "source": [
    "def RN_f(element_sum, scope= \"f_phi\"):\n",
    "    net = slim.fully_connected(element_sum, 159, scope=\"f_1\")\n",
    "#     net = slim.fully_connected(net, 512, scope=\"f_2\")\n",
    "#     net = slim.fully_connected(net, 159, scope=\"f_3\")\n",
    "    return net"
   ]
  },
  {
   "cell_type": "code",
   "execution_count": 8,
   "metadata": {
    "collapsed": true
   },
   "outputs": [],
   "source": [
    "def combination_nC2(objects):\n",
    "    list_ = []\n",
    "    for i in range(c_seq_num):\n",
    "        list_.append(objects[i])\n",
    "    return itertools.combinations(list_,2)"
   ]
  },
  {
   "cell_type": "code",
   "execution_count": 9,
   "metadata": {
    "collapsed": true
   },
   "outputs": [],
   "source": [
    "## garbage\n",
    "def batch_load(data, batch_size):\n",
    "    # data = (Question, Answer, Context, Labels, Q_length, C_seq_length)\n",
    "    batch_q = random.sample(data[0], batch_size)\n",
    "    batch_a = random.sample(data[1], batch_size)\n",
    "    batch_c = random.sample(list(data[2]), batch_size)\n",
    "    batch_l = random.sample(data[3], batch_size)\n",
    "    batch_ql = random.sample(data[4], batch_size)\n",
    "    batch_cl = random.sample(data[5], batch_size)\n",
    "    return batch_q, batch_a, batch_c, batch_l, batch_ql, batch_cl"
   ]
  },
  {
   "cell_type": "markdown",
   "metadata": {},
   "source": [
    "# label에 따른 순서 지정  \n",
    "# context의 문장을 무조건 20개 사용(비효율적)->개선 할 수 있는 구현방법 "
   ]
  },
  {
   "cell_type": "code",
   "execution_count": 10,
   "metadata": {
    "collapsed": true,
    "scrolled": false
   },
   "outputs": [],
   "source": [
    "objects_units = context_LSTM(context, c_seq_length)\n",
    "q_unit = question_LSTM(question, q_length)"
   ]
  },
  {
   "cell_type": "code",
   "execution_count": 11,
   "metadata": {},
   "outputs": [
    {
     "data": {
      "text/plain": [
       "<tf.Tensor 'stack:0' shape=(16, 20, 32) dtype=float32>"
      ]
     },
     "execution_count": 11,
     "metadata": {},
     "output_type": "execute_result"
    }
   ],
   "source": [
    "objects_units"
   ]
  },
  {
   "cell_type": "code",
   "execution_count": 12,
   "metadata": {},
   "outputs": [
    {
     "data": {
      "text/plain": [
       "<tf.Tensor 'Gather:0' shape=(?, 32) dtype=float32>"
      ]
     },
     "execution_count": 12,
     "metadata": {},
     "output_type": "execute_result"
    }
   ],
   "source": [
    "q_unit"
   ]
  },
  {
   "cell_type": "code",
   "execution_count": 11,
   "metadata": {
    "collapsed": true,
    "scrolled": true
   },
   "outputs": [],
   "source": [
    "# objects unit 을 run해서 그결과를 저장하고 combination을 만든 다음에  다시 feed dict 해서 그결과를 본다. \n",
    "result = []\n",
    "reuse = False\n",
    "for i in range(batch_size):\n",
    "    first = True\n",
    "    for (object_i,object_j) in combination_nC2(objects_units[i]):\n",
    "        if first:\n",
    "            element_summation = RN_g(object_i, object_j, q_unit[i], reuse = reuse)\n",
    "            first = False\n",
    "            reuse = True\n",
    "        else :\n",
    "            element_summation += RN_g(object_i,object_j,q_unit[i], reuse = reuse)\n",
    "    result.append(element_summation)\n",
    "\n",
    "result = tf.reshape(tf.stack(result), [batch_size, -1])\n",
    "out = RN_f(result)\n",
    "\n",
    "cost = tf.reduce_mean(tf.nn.softmax_cross_entropy_with_logits(logits = out, labels = answer ))\n",
    "optimizer = tf.train.AdamOptimizer(learning_rate=0.0001).minimize(cost)\n",
    "\n",
    "correct_pred = tf.equal(tf.argmax(out,1), tf.argmax(answer,1))\n",
    "accuracy = tf.reduce_mean(tf.cast(correct_pred, tf.float32))"
   ]
  },
  {
   "cell_type": "markdown",
   "metadata": {},
   "source": [
    "# training session"
   ]
  },
  {
   "cell_type": "code",
   "execution_count": 12,
   "metadata": {},
   "outputs": [
    {
     "name": "stdout",
     "output_type": "stream",
     "text": [
      "step 100, training accuracy 0.125\n",
      "step 200, training accuracy 0.1875\n",
      "step 300, training accuracy 0.1875\n",
      "step 400, training accuracy 0.0625\n",
      "step 500, training accuracy 0.1875\n",
      "step 600, training accuracy 0.125\n",
      "step 700, training accuracy 0.125\n",
      "step 800, training accuracy 0.125\n",
      "step 900, training accuracy 0.0625\n",
      "step 1000, training accuracy 0.0625\n",
      "step 1100, training accuracy 0.0625\n",
      "step 1200, training accuracy 0.1875\n",
      "step 1300, training accuracy 0.1875\n",
      "step 1400, training accuracy 0.0625\n",
      "step 1500, training accuracy 0.125\n",
      "step 1600, training accuracy 0.125\n",
      "step 1700, training accuracy 0.1875\n",
      "step 1800, training accuracy 0\n",
      "step 1900, training accuracy 0\n",
      "step 2000, training accuracy 0.25\n",
      "step 2100, training accuracy 0.125\n",
      "step 2200, training accuracy 0.0625\n",
      "step 2300, training accuracy 0.125\n",
      "step 2400, training accuracy 0.1875\n",
      "step 2500, training accuracy 0.1875\n",
      "step 2600, training accuracy 0.1875\n",
      "step 2700, training accuracy 0.25\n",
      "step 2800, training accuracy 0.125\n",
      "step 2900, training accuracy 0.125\n",
      "step 3000, training accuracy 0.0625\n",
      "step 3100, training accuracy 0.1875\n",
      "step 3200, training accuracy 0.125\n",
      "step 3300, training accuracy 0\n",
      "step 3400, training accuracy 0.25\n",
      "step 3500, training accuracy 0.0625\n",
      "step 3600, training accuracy 0.0625\n",
      "step 3700, training accuracy 0.125\n",
      "step 3800, training accuracy 0.0625\n",
      "step 3900, training accuracy 0.0625\n",
      "step 4000, training accuracy 0.0625\n",
      "step 4100, training accuracy 0.0625\n",
      "step 4200, training accuracy 0.125\n",
      "step 4300, training accuracy 0.125\n",
      "step 4400, training accuracy 0.0625\n",
      "step 4500, training accuracy 0.3125\n",
      "step 4600, training accuracy 0.0625\n",
      "step 4700, training accuracy 0.1875\n",
      "step 4800, training accuracy 0.0625\n",
      "step 4900, training accuracy 0.1875\n",
      "step 5000, training accuracy 0.125\n",
      "step 5100, training accuracy 0.25\n",
      "step 5200, training accuracy 0.0625\n",
      "step 5300, training accuracy 0.125\n",
      "step 5400, training accuracy 0.0625\n",
      "step 5500, training accuracy 0.0625\n",
      "step 5600, training accuracy 0.25\n",
      "step 5700, training accuracy 0.0625\n",
      "step 5800, training accuracy 0.0625\n",
      "step 5900, training accuracy 0.1875\n",
      "step 6000, training accuracy 0.1875\n",
      "step 6100, training accuracy 0\n",
      "step 6200, training accuracy 0.0625\n",
      "step 6300, training accuracy 0.125\n",
      "step 6400, training accuracy 0.0625\n",
      "step 6500, training accuracy 0\n",
      "step 6600, training accuracy 0.125\n",
      "step 6700, training accuracy 0\n",
      "step 6800, training accuracy 0.25\n",
      "step 6900, training accuracy 0.125\n",
      "step 7000, training accuracy 0\n",
      "step 7100, training accuracy 0.0625\n",
      "step 7200, training accuracy 0.375\n",
      "step 7300, training accuracy 0.125\n",
      "step 7400, training accuracy 0.125\n",
      "step 7500, training accuracy 0.3125\n",
      "step 7600, training accuracy 0.125\n",
      "step 7700, training accuracy 0.0625\n",
      "step 7800, training accuracy 0.0625\n",
      "step 7900, training accuracy 0.0625\n",
      "step 8000, training accuracy 0.25\n",
      "step 8100, training accuracy 0.0625\n",
      "step 8200, training accuracy 0.1875\n",
      "step 8300, training accuracy 0.125\n",
      "step 8400, training accuracy 0.0625\n",
      "step 8500, training accuracy 0.125\n",
      "step 8600, training accuracy 0.125\n",
      "step 8700, training accuracy 0.125\n",
      "step 8800, training accuracy 0.0625\n",
      "step 8900, training accuracy 0\n",
      "step 9000, training accuracy 0.25\n",
      "step 9100, training accuracy 0\n",
      "step 9200, training accuracy 0.1875\n",
      "step 9300, training accuracy 0\n",
      "step 9400, training accuracy 0.125\n",
      "step 9500, training accuracy 0.125\n",
      "step 9600, training accuracy 0\n",
      "step 9700, training accuracy 0.1875\n",
      "step 9800, training accuracy 0\n",
      "step 9900, training accuracy 0.0625\n",
      "learning finished!\n",
      "test accuracy 0.1875\n"
     ]
    }
   ],
   "source": [
    "gpu_options = tf.GPUOptions(allow_growth=True, per_process_gpu_memory_fraction=0.1)\n",
    "config = tf.ConfigProto(log_device_placement=True, allow_soft_placement=True,gpu_options=gpu_options)\n",
    "\n",
    "with tf.Session(config= config) as sess:\n",
    "    sess.run(tf.global_variables_initializer())\n",
    "    for i in range(1,10000):\n",
    "        batch_q, batch_a, batch_c, batch_l, batch_ql, batch_cl = batch_load(train, batch_size)\n",
    "\n",
    "        if i % 100 == 0:\n",
    "            train_accuracy = accuracy.eval(feed_dict = {question: batch_q, q_length: batch_ql, context: batch_c, c_seq_length: batch_cl, answer : batch_a})\n",
    "            print('step %d, training accuracy %g' % (i, train_accuracy))\n",
    "        optimizer.run(feed_dict = {question: batch_q, q_length: batch_ql, context: batch_c, c_seq_length: batch_cl, answer : batch_a})\n",
    "    \n",
    "    print(\"learning finished!\")\n",
    "    batch_q, batch_a, batch_c, batch_l, batch_ql, batch_cl = batch_load(test, batch_size)\n",
    "    print('test accuracy %g' % accuracy.eval(feed_dict = {question: batch_q, q_length: batch_ql, context: batch_c, c_seq_length: batch_cl, answer : batch_a}))"
   ]
  },
  {
   "cell_type": "code",
   "execution_count": null,
   "metadata": {
    "collapsed": true
   },
   "outputs": [],
   "source": []
  },
  {
   "cell_type": "code",
   "execution_count": null,
   "metadata": {
    "collapsed": true
   },
   "outputs": [],
   "source": []
  }
 ],
 "metadata": {
  "kernelspec": {
   "display_name": "Python 3",
   "language": "python",
   "name": "python3"
  },
  "language_info": {
   "codemirror_mode": {
    "name": "ipython",
    "version": 3
   },
   "file_extension": ".py",
   "mimetype": "text/x-python",
   "name": "python",
   "nbconvert_exporter": "python",
   "pygments_lexer": "ipython3",
   "version": "3.5.0"
  }
 },
 "nbformat": 4,
 "nbformat_minor": 2
}
